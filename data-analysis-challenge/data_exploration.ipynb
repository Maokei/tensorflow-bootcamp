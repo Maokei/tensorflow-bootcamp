{
 "cells": [
  {
   "cell_type": "code",
   "execution_count": 138,
   "metadata": {
    "collapsed": true
   },
   "outputs": [],
   "source": [
    "import pandas as pd\n",
    "import matplotlib.pyplot as plt\n",
    "from mpl_toolkits.mplot3d import Axes3D\n",
    "import numpy as np\n",
    "from sklearn.datasets import make_blobs\n",
    "from itertools import product\n",
    "from sklearn.cluster import KMeans\n",
    "from pandas.plotting import scatter_matrix\n",
    "\n",
    "import annoy\n",
    "from annoy import AnnoyIndex\n",
    "import seaborn as sns\n",
    "import dateutil\n",
    "from sklearn import cluster\n",
    "import networkx as nx\n",
    "from collections import defaultdict\n",
    "import matplotlib.pyplot as plt\n",
    "from matplotlib import cm\n",
    "import seaborn as sns\n",
    "from sklearn.metrics.cluster import normalized_mutual_info_score\n",
    "from sklearn.metrics.cluster import adjusted_rand_score\n",
    "\n",
    "%matplotlib inline"
   ]
  },
  {
   "cell_type": "code",
   "execution_count": 139,
   "metadata": {
    "collapsed": true
   },
   "outputs": [],
   "source": [
    "pd.set_option('display.max_colwidth', -1)"
   ]
  },
  {
   "cell_type": "code",
   "execution_count": 140,
   "metadata": {
    "collapsed": true
   },
   "outputs": [],
   "source": [
    "url = 'city_search.json'"
   ]
  },
  {
   "cell_type": "code",
   "execution_count": 141,
   "metadata": {
    "collapsed": true
   },
   "outputs": [],
   "source": [
    "df = pd.read_json(url, orient='columns')"
   ]
  },
  {
   "cell_type": "markdown",
   "metadata": {},
   "source": [
    "### Getting to know the data"
   ]
  },
  {
   "cell_type": "code",
   "execution_count": 142,
   "metadata": {},
   "outputs": [
    {
     "name": "stdout",
     "output_type": "stream",
     "text": [
      "<class 'pandas.core.frame.DataFrame'>\n",
      "Int64Index: 20022 entries, 0 to 20021\n",
      "Data columns (total 5 columns):\n",
      "cities             20022 non-null object\n",
      "session_id         20022 non-null object\n",
      "unix_timestam p    1 non-null object\n",
      "unix_timestamp     20021 non-null object\n",
      "user               20022 non-null object\n",
      "dtypes: object(5)\n",
      "memory usage: 938.5+ KB\n"
     ]
    }
   ],
   "source": [
    "# gather some information about different column in this DataFrame\n",
    "df.info()"
   ]
  },
  {
   "cell_type": "code",
   "execution_count": 143,
   "metadata": {},
   "outputs": [
    {
     "data": {
      "text/html": [
       "<div>\n",
       "<style>\n",
       "    .dataframe thead tr:only-child th {\n",
       "        text-align: right;\n",
       "    }\n",
       "\n",
       "    .dataframe thead th {\n",
       "        text-align: left;\n",
       "    }\n",
       "\n",
       "    .dataframe tbody tr th {\n",
       "        vertical-align: top;\n",
       "    }\n",
       "</style>\n",
       "<table border=\"1\" class=\"dataframe\">\n",
       "  <thead>\n",
       "    <tr style=\"text-align: right;\">\n",
       "      <th></th>\n",
       "      <th>cities</th>\n",
       "      <th>session_id</th>\n",
       "      <th>unix_timestam p</th>\n",
       "      <th>unix_timestamp</th>\n",
       "      <th>user</th>\n",
       "    </tr>\n",
       "  </thead>\n",
       "  <tbody>\n",
       "    <tr>\n",
       "      <th>0</th>\n",
       "      <td>[New York NY, Newark NJ]</td>\n",
       "      <td>[X061RFWB06K9V]</td>\n",
       "      <td>NaN</td>\n",
       "      <td>[1442503708]</td>\n",
       "      <td>[[{'user_id': 2024, 'joining_date': '2015-03-22', 'country': 'UK'}]]</td>\n",
       "    </tr>\n",
       "    <tr>\n",
       "      <th>1</th>\n",
       "      <td>[New York NY, Jersey City NJ, Philadelphia PA]</td>\n",
       "      <td>[5AZ2X2A9BHH5U]</td>\n",
       "      <td>NaN</td>\n",
       "      <td>[1441353991]</td>\n",
       "      <td>[[{'user_id': 2853, 'joining_date': '2015-03-28', 'country': 'DE'}]]</td>\n",
       "    </tr>\n",
       "    <tr>\n",
       "      <th>2</th>\n",
       "      <td>[San Antonio TX]</td>\n",
       "      <td>[SHTB4IYAX4PX6]</td>\n",
       "      <td>NaN</td>\n",
       "      <td>[1440843490]</td>\n",
       "      <td>[[{'user_id': 10958, 'joining_date': '2015-03-06', 'country': 'UK'}]]</td>\n",
       "    </tr>\n",
       "    <tr>\n",
       "      <th>3</th>\n",
       "      <td>[Edmonton AB]</td>\n",
       "      <td>[JBRB8MZGTX3M4]</td>\n",
       "      <td>NaN</td>\n",
       "      <td>[1427268063]</td>\n",
       "      <td>[[{'user_id': 7693, 'joining_date': '2015-03-12', 'country': 'IT'}]]</td>\n",
       "    </tr>\n",
       "    <tr>\n",
       "      <th>4</th>\n",
       "      <td>[Phoenix AZ, Houston TX]</td>\n",
       "      <td>[YJCMPURC2FL9C]</td>\n",
       "      <td>NaN</td>\n",
       "      <td>[1430559067]</td>\n",
       "      <td>[[{'user_id': 7506, 'joining_date': '2015-02-28', 'country': 'UK'}]]</td>\n",
       "    </tr>\n",
       "  </tbody>\n",
       "</table>\n",
       "</div>"
      ],
      "text/plain": [
       "                                           cities       session_id  \\\n",
       "0  [New York NY, Newark NJ]                        [X061RFWB06K9V]   \n",
       "1  [New York NY, Jersey City NJ, Philadelphia PA]  [5AZ2X2A9BHH5U]   \n",
       "2  [San Antonio TX]                                [SHTB4IYAX4PX6]   \n",
       "3  [Edmonton AB]                                   [JBRB8MZGTX3M4]   \n",
       "4  [Phoenix AZ, Houston TX]                        [YJCMPURC2FL9C]   \n",
       "\n",
       "  unix_timestam p unix_timestamp  \\\n",
       "0  NaN             [1442503708]    \n",
       "1  NaN             [1441353991]    \n",
       "2  NaN             [1440843490]    \n",
       "3  NaN             [1427268063]    \n",
       "4  NaN             [1430559067]    \n",
       "\n",
       "                                                                    user  \n",
       "0  [[{'user_id': 2024, 'joining_date': '2015-03-22', 'country': 'UK'}]]   \n",
       "1  [[{'user_id': 2853, 'joining_date': '2015-03-28', 'country': 'DE'}]]   \n",
       "2  [[{'user_id': 10958, 'joining_date': '2015-03-06', 'country': 'UK'}]]  \n",
       "3  [[{'user_id': 7693, 'joining_date': '2015-03-12', 'country': 'IT'}]]   \n",
       "4  [[{'user_id': 7506, 'joining_date': '2015-02-28', 'country': 'UK'}]]   "
      ]
     },
     "execution_count": 143,
     "metadata": {},
     "output_type": "execute_result"
    }
   ],
   "source": [
    "df.head(5)"
   ]
  },
  {
   "cell_type": "code",
   "execution_count": 144,
   "metadata": {
    "collapsed": true
   },
   "outputs": [],
   "source": [
    "# The columns with object dtype are the categorical features in the dataset.\n",
    "# investigate the raw dataset thoroughly \n",
    "# cleaning it?\n",
    "\n",
    "# analyze the relationship between a categorical \n",
    "# feature and a continuous feature by ploting a boxplot. "
   ]
  },
  {
   "cell_type": "code",
   "execution_count": 145,
   "metadata": {},
   "outputs": [
    {
     "data": {
      "text/plain": [
       "cities             20022\n",
       "session_id         20022\n",
       "unix_timestam p    1    \n",
       "unix_timestamp     20021\n",
       "user               20022\n",
       "dtype: int64"
      ]
     },
     "execution_count": 145,
     "metadata": {},
     "output_type": "execute_result"
    }
   ],
   "source": [
    "# Extracting the individual DataFrame components\n",
    "# The index, columns and data (values). \n",
    "# We can extract each of these components into their own variables.\n",
    "\n",
    "index = df.index\n",
    "columns = df.columns\n",
    "values = df.values\n",
    "\n",
    "# Selecting a single column of data returns the other pandas data container, the Series.\n",
    "# A Series is a one-dimensional sequence of labeled data. \n",
    "# There are two main components of a Series, the index and the data(or values). \n",
    "# There are NO columns in a Series.\n",
    "\n",
    "# # Selecting rows and columns simultaneously with .loc\n",
    "# # df.loc[row_selection, column_selection]\n",
    "# df.loc[1, 'cities']\n",
    "\n",
    "# # Select all and three columns\n",
    "# df.loc[0:, ['cities', 'session_id', 'user']]\n",
    "\n",
    "\n",
    "# You can create a separate DataFrame consisting of only the features by running .copy() \n",
    "# any changes made in new DataFrame don't get reflected in the original one.\n",
    "\n",
    "\n",
    "df.loc[4]\n",
    "df.loc[1:5]\n",
    "df.loc[1:3]\n",
    "index\n",
    "columns\n",
    "type(values)\n",
    "len(df)\n",
    "df.count()"
   ]
  },
  {
   "cell_type": "code",
   "execution_count": 146,
   "metadata": {
    "collapsed": true
   },
   "outputs": [],
   "source": [
    "# counts = df['session_id'].value_counts(normalize=True, dropna=False)\n",
    "colNames = ['cities', 'user']\n",
    "def extract_country(user):\n",
    "    return  user[0][0]['country']\n",
    "\n",
    "flattened_data_frame = pd.DataFrame(columns = ['country', 'cities', 'user'])\n",
    "flattened_data_frame['cities'] = df['cities'].apply(lambda x: ', '.join(x))\n",
    "\n",
    "flattened_data_frame['timestamp'] = df['unix_timestamp']\n",
    "flattened_data_frame['session_id'] = df['session_id']\n",
    "flattened_data_frame['user'] = df['user'].apply(lambda x:  x[0][0]['user_id'])\n",
    "flattened_data_frame['country'] = df.apply(lambda x: extract_country(x[colNames[1]]), axis=1)"
   ]
  },
  {
   "cell_type": "code",
   "execution_count": 147,
   "metadata": {},
   "outputs": [
    {
     "data": {
      "text/html": [
       "<div>\n",
       "<style>\n",
       "    .dataframe thead tr:only-child th {\n",
       "        text-align: right;\n",
       "    }\n",
       "\n",
       "    .dataframe thead th {\n",
       "        text-align: left;\n",
       "    }\n",
       "\n",
       "    .dataframe tbody tr th {\n",
       "        vertical-align: top;\n",
       "    }\n",
       "</style>\n",
       "<table border=\"1\" class=\"dataframe\">\n",
       "  <thead>\n",
       "    <tr style=\"text-align: right;\">\n",
       "      <th></th>\n",
       "      <th>country</th>\n",
       "      <th>cities</th>\n",
       "      <th>user</th>\n",
       "      <th>timestamp</th>\n",
       "      <th>session_id</th>\n",
       "    </tr>\n",
       "  </thead>\n",
       "  <tbody>\n",
       "    <tr>\n",
       "      <th>0</th>\n",
       "      <td>UK</td>\n",
       "      <td>New York NY, Newark NJ</td>\n",
       "      <td>2024</td>\n",
       "      <td>[1442503708]</td>\n",
       "      <td>[X061RFWB06K9V]</td>\n",
       "    </tr>\n",
       "    <tr>\n",
       "      <th>1</th>\n",
       "      <td>DE</td>\n",
       "      <td>New York NY, Jersey City NJ, Philadelphia PA</td>\n",
       "      <td>2853</td>\n",
       "      <td>[1441353991]</td>\n",
       "      <td>[5AZ2X2A9BHH5U]</td>\n",
       "    </tr>\n",
       "    <tr>\n",
       "      <th>2</th>\n",
       "      <td>UK</td>\n",
       "      <td>San Antonio TX</td>\n",
       "      <td>10958</td>\n",
       "      <td>[1440843490]</td>\n",
       "      <td>[SHTB4IYAX4PX6]</td>\n",
       "    </tr>\n",
       "    <tr>\n",
       "      <th>3</th>\n",
       "      <td>IT</td>\n",
       "      <td>Edmonton AB</td>\n",
       "      <td>7693</td>\n",
       "      <td>[1427268063]</td>\n",
       "      <td>[JBRB8MZGTX3M4]</td>\n",
       "    </tr>\n",
       "    <tr>\n",
       "      <th>4</th>\n",
       "      <td>UK</td>\n",
       "      <td>Phoenix AZ, Houston TX</td>\n",
       "      <td>7506</td>\n",
       "      <td>[1430559067]</td>\n",
       "      <td>[YJCMPURC2FL9C]</td>\n",
       "    </tr>\n",
       "  </tbody>\n",
       "</table>\n",
       "</div>"
      ],
      "text/plain": [
       "  country                                        cities   user     timestamp  \\\n",
       "0  UK      New York NY, Newark NJ                        2024   [1442503708]   \n",
       "1  DE      New York NY, Jersey City NJ, Philadelphia PA  2853   [1441353991]   \n",
       "2  UK      San Antonio TX                                10958  [1440843490]   \n",
       "3  IT      Edmonton AB                                   7693   [1427268063]   \n",
       "4  UK      Phoenix AZ, Houston TX                        7506   [1430559067]   \n",
       "\n",
       "        session_id  \n",
       "0  [X061RFWB06K9V]  \n",
       "1  [5AZ2X2A9BHH5U]  \n",
       "2  [SHTB4IYAX4PX6]  \n",
       "3  [JBRB8MZGTX3M4]  \n",
       "4  [YJCMPURC2FL9C]  "
      ]
     },
     "execution_count": 147,
     "metadata": {},
     "output_type": "execute_result"
    }
   ],
   "source": [
    "flattened_data_frame.head(5)"
   ]
  },
  {
   "cell_type": "code",
   "execution_count": 148,
   "metadata": {
    "collapsed": true
   },
   "outputs": [],
   "source": [
    "number_of_unique_countries = flattened_data_frame['country'].value_counts()\n",
    "percent_unique_countries = flattened_data_frame['country'].value_counts(normalize=True, dropna=False)"
   ]
  },
  {
   "cell_type": "code",
   "execution_count": 149,
   "metadata": {},
   "outputs": [
    {
     "data": {
      "text/plain": [
       "US    3876\n",
       "DE    3638\n",
       "UK    3555\n",
       "      2820\n",
       "FR    2298\n",
       "ES    1953\n",
       "IT    1882\n",
       "Name: country, dtype: int64"
      ]
     },
     "execution_count": 149,
     "metadata": {},
     "output_type": "execute_result"
    }
   ],
   "source": [
    "\n",
    "number_of_unique_countries"
   ]
  },
  {
   "cell_type": "code",
   "execution_count": 150,
   "metadata": {
    "collapsed": true
   },
   "outputs": [],
   "source": [
    "# flattened_data_frame['session_id']..value_counts()"
   ]
  },
  {
   "cell_type": "code",
   "execution_count": 151,
   "metadata": {},
   "outputs": [
    {
     "data": {
      "text/plain": [
       "US    0.193587\n",
       "DE    0.181700\n",
       "UK    0.177555\n",
       "      0.140845\n",
       "FR    0.114774\n",
       "ES    0.097543\n",
       "IT    0.093997\n",
       "Name: country, dtype: float64"
      ]
     },
     "execution_count": 151,
     "metadata": {},
     "output_type": "execute_result"
    }
   ],
   "source": [
    "percent_unique_countries"
   ]
  },
  {
   "cell_type": "code",
   "execution_count": 152,
   "metadata": {},
   "outputs": [
    {
     "data": {
      "text/plain": [
       "7"
      ]
     },
     "execution_count": 152,
     "metadata": {},
     "output_type": "execute_result"
    }
   ],
   "source": [
    "# How many countries of origin in total?\n",
    "len(number_of_unique_countries)"
   ]
  },
  {
   "cell_type": "code",
   "execution_count": 153,
   "metadata": {},
   "outputs": [
    {
     "data": {
      "text/plain": [
       "US    3876\n",
       "DE    3638\n",
       "UK    3555\n",
       "      2820\n",
       "FR    2298\n",
       "ES    1953\n",
       "IT    1882\n",
       "Name: country, dtype: int64"
      ]
     },
     "execution_count": 153,
     "metadata": {},
     "output_type": "execute_result"
    }
   ],
   "source": [
    "number_of_unique_countries"
   ]
  },
  {
   "cell_type": "code",
   "execution_count": 154,
   "metadata": {},
   "outputs": [
    {
     "data": {
      "text/plain": [
       "US    3876\n",
       "DE    3638\n",
       "UK    3555\n",
       "      2820\n",
       "FR    2298\n",
       "ES    1953\n",
       "IT    1882\n",
       "Name: country, dtype: int64"
      ]
     },
     "execution_count": 154,
     "metadata": {},
     "output_type": "execute_result"
    }
   ],
   "source": [
    "number_of_unique_countries"
   ]
  },
  {
   "cell_type": "code",
   "execution_count": 155,
   "metadata": {},
   "outputs": [
    {
     "data": {
      "text/plain": [
       "5777"
      ]
     },
     "execution_count": 155,
     "metadata": {},
     "output_type": "execute_result"
    }
   ],
   "source": [
    "# How many unique users in total?\n",
    "number_of_unique_users = flattened_data_frame['user'].value_counts()\n",
    "len(number_of_unique_users)"
   ]
  },
  {
   "cell_type": "code",
   "execution_count": 156,
   "metadata": {},
   "outputs": [
    {
     "data": {
      "text/plain": [
       "4314    12\n",
       "4404    12\n",
       "4082    11\n",
       "7363    10\n",
       "9252    10\n",
       "6508    10\n",
       "2300    10\n",
       "7968    9 \n",
       "4974    9 \n",
       "3808    9 \n",
       "Name: user, dtype: int64"
      ]
     },
     "execution_count": 156,
     "metadata": {},
     "output_type": "execute_result"
    }
   ],
   "source": [
    "number_of_unique_users.head(10)"
   ]
  },
  {
   "cell_type": "code",
   "execution_count": 157,
   "metadata": {},
   "outputs": [
    {
     "data": {
      "text/plain": [
       "20022"
      ]
     },
     "execution_count": 157,
     "metadata": {},
     "output_type": "execute_result"
    }
   ],
   "source": [
    "# How many sessions in total?\n",
    "len(flattened_data_frame)"
   ]
  },
  {
   "cell_type": "code",
   "execution_count": 158,
   "metadata": {},
   "outputs": [
    {
     "data": {
      "image/png": "[encoded data removed]",
      "text/plain": [
       "<matplotlib.figure.Figure at 0x11497c978>"
      ]
     },
     "metadata": {},
     "output_type": "display_data"
    }
   ],
   "source": [
    "# Plot muber of users per country of origin\n",
    "categorical_info = flattened_data_frame['country'].value_counts()\n",
    "sns.set(style=\"darkgrid\")\n",
    "\n",
    "sns.barplot(categorical_info.index, categorical_info.values, alpha=0.9)\n",
    "plt.title('Users per Country or Origin')\n",
    "plt.ylabel('Users', fontsize=12)\n",
    "plt.xlabel('Countries', fontsize=12)\n",
    "plt.show()"
   ]
  },
  {
   "cell_type": "code",
   "execution_count": 159,
   "metadata": {},
   "outputs": [
    {
     "data": {
      "text/plain": [
       "0"
      ]
     },
     "execution_count": 159,
     "metadata": {},
     "output_type": "execute_result"
    }
   ],
   "source": [
    "# Detect missing values\n",
    "categorical_info.isnull().sum()"
   ]
  },
  {
   "cell_type": "code",
   "execution_count": 160,
   "metadata": {},
   "outputs": [
    {
     "data": {
      "image/png": "[encoded data removed]",
      "text/plain": [
       "<matplotlib.figure.Figure at 0x11499ff98>"
      ]
     },
     "metadata": {},
     "output_type": "display_data"
    }
   ],
   "source": [
    "sns.catplot(x=\"user\", y=\"country\", data=flattened_data_frame);"
   ]
  },
  {
   "cell_type": "code",
   "execution_count": 161,
   "metadata": {},
   "outputs": [
    {
     "data": {
      "image/png": "[encoded data removed]",
      "text/plain": [
       "<matplotlib.figure.Figure at 0x114aa1be0>"
      ]
     },
     "metadata": {},
     "output_type": "display_data"
    }
   ],
   "source": [
    "sns.catplot(x=\"user\", y=\"country\", kind=\"swarm\", data=flattened_data_frame);"
   ]
  },
  {
   "cell_type": "code",
   "execution_count": 162,
   "metadata": {},
   "outputs": [
    {
     "data": {
      "text/plain": [
       "<matplotlib.axes._subplots.AxesSubplot at 0x114ba37b8>"
      ]
     },
     "execution_count": 162,
     "metadata": {},
     "output_type": "execute_result"
    },
    {
     "data": {
      "image/png": "[encoded data removed]",
      "text/plain": [
       "<matplotlib.figure.Figure at 0x114c7f208>"
      ]
     },
     "metadata": {},
     "output_type": "display_data"
    }
   ],
   "source": [
    "# sns.catplot(x=\"Cities\", y=\"Country\", hue=\"User\", kind=\"swarm\", data=df2);\n",
    "sns.countplot(flattened_data_frame['country'], color='gray')"
   ]
  },
  {
   "cell_type": "code",
   "execution_count": 163,
   "metadata": {},
   "outputs": [
    {
     "data": {
      "text/html": [
       "<div>\n",
       "<style>\n",
       "    .dataframe thead tr:only-child th {\n",
       "        text-align: right;\n",
       "    }\n",
       "\n",
       "    .dataframe thead th {\n",
       "        text-align: left;\n",
       "    }\n",
       "\n",
       "    .dataframe tbody tr th {\n",
       "        vertical-align: top;\n",
       "    }\n",
       "</style>\n",
       "<table border=\"1\" class=\"dataframe\">\n",
       "  <thead>\n",
       "    <tr style=\"text-align: right;\">\n",
       "      <th></th>\n",
       "      <th>_row</th>\n",
       "      <th>country</th>\n",
       "      <th>joining_date</th>\n",
       "      <th>user_id</th>\n",
       "    </tr>\n",
       "  </thead>\n",
       "  <tbody>\n",
       "    <tr>\n",
       "      <th>20012</th>\n",
       "      <td>536.2</td>\n",
       "      <td>US</td>\n",
       "      <td>2015-03-30</td>\n",
       "      <td>8720</td>\n",
       "    </tr>\n",
       "    <tr>\n",
       "      <th>20013</th>\n",
       "      <td>1634.3</td>\n",
       "      <td>IT</td>\n",
       "      <td>2015-03-15</td>\n",
       "      <td>1689</td>\n",
       "    </tr>\n",
       "    <tr>\n",
       "      <th>20014</th>\n",
       "      <td>5684.5</td>\n",
       "      <td></td>\n",
       "      <td>2015-03-31</td>\n",
       "      <td>5726</td>\n",
       "    </tr>\n",
       "    <tr>\n",
       "      <th>20015</th>\n",
       "      <td>2869.2</td>\n",
       "      <td>ES</td>\n",
       "      <td>2015-03-22</td>\n",
       "      <td>7761</td>\n",
       "    </tr>\n",
       "    <tr>\n",
       "      <th>20016</th>\n",
       "      <td>4533.4</td>\n",
       "      <td>DE</td>\n",
       "      <td>2015-03-30</td>\n",
       "      <td>9513</td>\n",
       "    </tr>\n",
       "    <tr>\n",
       "      <th>20017</th>\n",
       "      <td>4235.4</td>\n",
       "      <td></td>\n",
       "      <td>2015-03-21</td>\n",
       "      <td>4360</td>\n",
       "    </tr>\n",
       "    <tr>\n",
       "      <th>20018</th>\n",
       "      <td>3341.3</td>\n",
       "      <td>IT</td>\n",
       "      <td>2015-03-22</td>\n",
       "      <td>2057</td>\n",
       "    </tr>\n",
       "    <tr>\n",
       "      <th>20019</th>\n",
       "      <td>2001.6</td>\n",
       "      <td>IT</td>\n",
       "      <td>2015-02-28</td>\n",
       "      <td>1203</td>\n",
       "    </tr>\n",
       "    <tr>\n",
       "      <th>20020</th>\n",
       "      <td>2473.5</td>\n",
       "      <td>ES</td>\n",
       "      <td>2015-03-24</td>\n",
       "      <td>3699</td>\n",
       "    </tr>\n",
       "    <tr>\n",
       "      <th>20021</th>\n",
       "      <td>4185.3</td>\n",
       "      <td>DE</td>\n",
       "      <td>2015-03-29</td>\n",
       "      <td>2375</td>\n",
       "    </tr>\n",
       "  </tbody>\n",
       "</table>\n",
       "</div>"
      ],
      "text/plain": [
       "         _row country joining_date  user_id\n",
       "20012  536.2   US      2015-03-30   8720   \n",
       "20013  1634.3  IT      2015-03-15   1689   \n",
       "20014  5684.5          2015-03-31   5726   \n",
       "20015  2869.2  ES      2015-03-22   7761   \n",
       "20016  4533.4  DE      2015-03-30   9513   \n",
       "20017  4235.4          2015-03-21   4360   \n",
       "20018  3341.3  IT      2015-03-22   2057   \n",
       "20019  2001.6  IT      2015-02-28   1203   \n",
       "20020  2473.5  ES      2015-03-24   3699   \n",
       "20021  4185.3  DE      2015-03-29   2375   "
      ]
     },
     "execution_count": 163,
     "metadata": {},
     "output_type": "execute_result"
    }
   ],
   "source": [
    "users_data = pd.DataFrame(df, columns=['user'])\n",
    "# colNames = []\n",
    "# def mapUsers(user):\n",
    "#     for key, value in user[0][0].items():\n",
    "#          if key not in colNames:\n",
    "#             colNames.append(key)\n",
    "#     return user[0][0]\n",
    "\n",
    "\n",
    "# users = df.apply(lambda x: mapUsers(x['user']), axis=1)\n",
    "users_data = df['user'].apply(lambda x: x[0][0])\n",
    "\n",
    "# Create new pandas dataframe from Series of users dict:\n",
    "users = pd.DataFrame(list(users_data))\n",
    "users.tail(10)"
   ]
  },
  {
   "cell_type": "code",
   "execution_count": null,
   "metadata": {
    "collapsed": true
   },
   "outputs": [],
   "source": []
  },
  {
   "cell_type": "code",
   "execution_count": 164,
   "metadata": {},
   "outputs": [
    {
     "data": {
      "text/plain": [
       "8        2015-03-22\n",
       "10       2015-03-21\n",
       "16       2015-03-21\n",
       "28       2015-03-21\n",
       "29       2015-03-30\n",
       "30       2015-03-07\n",
       "40       2015-03-28\n",
       "46       2015-03-10\n",
       "55       2015-03-16\n",
       "61       2015-03-03\n",
       "67       2015-03-22\n",
       "75       2015-03-01\n",
       "85       2015-03-04\n",
       "89       2015-03-31\n",
       "90       2015-03-17\n",
       "95       2015-03-13\n",
       "99       2015-03-09\n",
       "102      2015-03-23\n",
       "104      2015-03-09\n",
       "105      2015-03-28\n",
       "106      2015-03-27\n",
       "108      2015-03-09\n",
       "111      2015-03-17\n",
       "126      2015-03-28\n",
       "130      2015-03-13\n",
       "137      2015-03-04\n",
       "140      2015-03-09\n",
       "148      2015-03-23\n",
       "150      2015-03-05\n",
       "155      2015-03-25\n",
       "            ...    \n",
       "19864    2015-03-28\n",
       "19875    2015-03-15\n",
       "19878    2015-03-08\n",
       "19882    2015-03-04\n",
       "19884    2015-03-13\n",
       "19887    2015-03-17\n",
       "19889    2015-03-24\n",
       "19894    2015-02-28\n",
       "19908    2015-03-17\n",
       "19913    2015-03-17\n",
       "19936    2015-03-30\n",
       "19937    2015-03-07\n",
       "19943    2015-03-23\n",
       "19950    2015-03-07\n",
       "19953    2015-03-11\n",
       "19954    2015-03-28\n",
       "19957    2015-03-24\n",
       "19964    2015-03-23\n",
       "19966    2015-02-28\n",
       "19968    2015-03-23\n",
       "19970    2015-03-05\n",
       "19978    2015-03-15\n",
       "19983    2015-03-07\n",
       "19985    2015-03-16\n",
       "19986    2015-03-05\n",
       "19994    2015-03-01\n",
       "19997    2015-03-13\n",
       "20002    2015-03-22\n",
       "20011    2015-03-11\n",
       "20012    2015-03-30\n",
       "Name: joining_date, Length: 3876, dtype: object"
      ]
     },
     "execution_count": 164,
     "metadata": {},
     "output_type": "execute_result"
    }
   ],
   "source": [
    "# How many users per joining date for US\n",
    "users['joining_date'][users['country']== 'US']"
   ]
  },
  {
   "cell_type": "code",
   "execution_count": 165,
   "metadata": {},
   "outputs": [
    {
     "data": {
      "text/plain": [
       "5777"
      ]
     },
     "execution_count": 165,
     "metadata": {},
     "output_type": "execute_result"
    }
   ],
   "source": [
    "users['user_id'].nunique()"
   ]
  },
  {
   "cell_type": "code",
   "execution_count": 166,
   "metadata": {},
   "outputs": [
    {
     "data": {
      "text/plain": [
       "20022"
      ]
     },
     "execution_count": 166,
     "metadata": {},
     "output_type": "execute_result"
    }
   ],
   "source": [
    "len(users['user_id'])"
   ]
  },
  {
   "cell_type": "code",
   "execution_count": 167,
   "metadata": {},
   "outputs": [
    {
     "data": {
      "text/plain": [
       "float"
      ]
     },
     "execution_count": 167,
     "metadata": {},
     "output_type": "execute_result"
    }
   ],
   "source": [
    "type(users['_row'][0])"
   ]
  },
  {
   "cell_type": "code",
   "execution_count": 168,
   "metadata": {},
   "outputs": [
    {
     "data": {
      "text/html": [
       "<div>\n",
       "<style>\n",
       "    .dataframe thead tr:only-child th {\n",
       "        text-align: right;\n",
       "    }\n",
       "\n",
       "    .dataframe thead th {\n",
       "        text-align: left;\n",
       "    }\n",
       "\n",
       "    .dataframe tbody tr th {\n",
       "        vertical-align: top;\n",
       "    }\n",
       "</style>\n",
       "<table border=\"1\" class=\"dataframe\">\n",
       "  <thead>\n",
       "    <tr style=\"text-align: right;\">\n",
       "      <th></th>\n",
       "      <th>_row</th>\n",
       "      <th>country</th>\n",
       "      <th>user_id</th>\n",
       "    </tr>\n",
       "    <tr>\n",
       "      <th>joining_date</th>\n",
       "      <th></th>\n",
       "      <th></th>\n",
       "      <th></th>\n",
       "    </tr>\n",
       "  </thead>\n",
       "  <tbody>\n",
       "    <tr>\n",
       "      <th>2015-02-28</th>\n",
       "      <td>467</td>\n",
       "      <td>677</td>\n",
       "      <td>677</td>\n",
       "    </tr>\n",
       "    <tr>\n",
       "      <th>2015-03-01</th>\n",
       "      <td>545</td>\n",
       "      <td>748</td>\n",
       "      <td>748</td>\n",
       "    </tr>\n",
       "    <tr>\n",
       "      <th>2015-03-02</th>\n",
       "      <td>612</td>\n",
       "      <td>857</td>\n",
       "      <td>857</td>\n",
       "    </tr>\n",
       "    <tr>\n",
       "      <th>2015-03-03</th>\n",
       "      <td>511</td>\n",
       "      <td>705</td>\n",
       "      <td>705</td>\n",
       "    </tr>\n",
       "    <tr>\n",
       "      <th>2015-03-04</th>\n",
       "      <td>322</td>\n",
       "      <td>449</td>\n",
       "      <td>449</td>\n",
       "    </tr>\n",
       "    <tr>\n",
       "      <th>2015-03-05</th>\n",
       "      <td>249</td>\n",
       "      <td>341</td>\n",
       "      <td>341</td>\n",
       "    </tr>\n",
       "    <tr>\n",
       "      <th>2015-03-06</th>\n",
       "      <td>252</td>\n",
       "      <td>344</td>\n",
       "      <td>344</td>\n",
       "    </tr>\n",
       "    <tr>\n",
       "      <th>2015-03-07</th>\n",
       "      <td>553</td>\n",
       "      <td>773</td>\n",
       "      <td>773</td>\n",
       "    </tr>\n",
       "    <tr>\n",
       "      <th>2015-03-08</th>\n",
       "      <td>454</td>\n",
       "      <td>656</td>\n",
       "      <td>656</td>\n",
       "    </tr>\n",
       "    <tr>\n",
       "      <th>2015-03-09</th>\n",
       "      <td>441</td>\n",
       "      <td>638</td>\n",
       "      <td>638</td>\n",
       "    </tr>\n",
       "    <tr>\n",
       "      <th>2015-03-10</th>\n",
       "      <td>470</td>\n",
       "      <td>673</td>\n",
       "      <td>673</td>\n",
       "    </tr>\n",
       "    <tr>\n",
       "      <th>2015-03-11</th>\n",
       "      <td>337</td>\n",
       "      <td>473</td>\n",
       "      <td>473</td>\n",
       "    </tr>\n",
       "    <tr>\n",
       "      <th>2015-03-12</th>\n",
       "      <td>197</td>\n",
       "      <td>279</td>\n",
       "      <td>279</td>\n",
       "    </tr>\n",
       "    <tr>\n",
       "      <th>2015-03-13</th>\n",
       "      <td>258</td>\n",
       "      <td>360</td>\n",
       "      <td>360</td>\n",
       "    </tr>\n",
       "    <tr>\n",
       "      <th>2015-03-14</th>\n",
       "      <td>542</td>\n",
       "      <td>764</td>\n",
       "      <td>764</td>\n",
       "    </tr>\n",
       "    <tr>\n",
       "      <th>2015-03-15</th>\n",
       "      <td>599</td>\n",
       "      <td>829</td>\n",
       "      <td>829</td>\n",
       "    </tr>\n",
       "    <tr>\n",
       "      <th>2015-03-16</th>\n",
       "      <td>532</td>\n",
       "      <td>743</td>\n",
       "      <td>743</td>\n",
       "    </tr>\n",
       "    <tr>\n",
       "      <th>2015-03-17</th>\n",
       "      <td>540</td>\n",
       "      <td>759</td>\n",
       "      <td>759</td>\n",
       "    </tr>\n",
       "    <tr>\n",
       "      <th>2015-03-18</th>\n",
       "      <td>334</td>\n",
       "      <td>460</td>\n",
       "      <td>460</td>\n",
       "    </tr>\n",
       "    <tr>\n",
       "      <th>2015-03-19</th>\n",
       "      <td>223</td>\n",
       "      <td>315</td>\n",
       "      <td>315</td>\n",
       "    </tr>\n",
       "    <tr>\n",
       "      <th>2015-03-20</th>\n",
       "      <td>255</td>\n",
       "      <td>359</td>\n",
       "      <td>359</td>\n",
       "    </tr>\n",
       "    <tr>\n",
       "      <th>2015-03-21</th>\n",
       "      <td>586</td>\n",
       "      <td>804</td>\n",
       "      <td>804</td>\n",
       "    </tr>\n",
       "    <tr>\n",
       "      <th>2015-03-22</th>\n",
       "      <td>447</td>\n",
       "      <td>633</td>\n",
       "      <td>633</td>\n",
       "    </tr>\n",
       "    <tr>\n",
       "      <th>2015-03-23</th>\n",
       "      <td>524</td>\n",
       "      <td>742</td>\n",
       "      <td>742</td>\n",
       "    </tr>\n",
       "    <tr>\n",
       "      <th>2015-03-24</th>\n",
       "      <td>491</td>\n",
       "      <td>690</td>\n",
       "      <td>690</td>\n",
       "    </tr>\n",
       "    <tr>\n",
       "      <th>2015-03-25</th>\n",
       "      <td>333</td>\n",
       "      <td>452</td>\n",
       "      <td>452</td>\n",
       "    </tr>\n",
       "    <tr>\n",
       "      <th>2015-03-26</th>\n",
       "      <td>178</td>\n",
       "      <td>261</td>\n",
       "      <td>261</td>\n",
       "    </tr>\n",
       "    <tr>\n",
       "      <th>2015-03-27</th>\n",
       "      <td>267</td>\n",
       "      <td>377</td>\n",
       "      <td>377</td>\n",
       "    </tr>\n",
       "    <tr>\n",
       "      <th>2015-03-28</th>\n",
       "      <td>445</td>\n",
       "      <td>646</td>\n",
       "      <td>646</td>\n",
       "    </tr>\n",
       "    <tr>\n",
       "      <th>2015-03-29</th>\n",
       "      <td>513</td>\n",
       "      <td>714</td>\n",
       "      <td>714</td>\n",
       "    </tr>\n",
       "    <tr>\n",
       "      <th>2015-03-30</th>\n",
       "      <td>508</td>\n",
       "      <td>720</td>\n",
       "      <td>720</td>\n",
       "    </tr>\n",
       "    <tr>\n",
       "      <th>2015-03-31</th>\n",
       "      <td>506</td>\n",
       "      <td>704</td>\n",
       "      <td>704</td>\n",
       "    </tr>\n",
       "    <tr>\n",
       "      <th>2015-04-01</th>\n",
       "      <td>298</td>\n",
       "      <td>415</td>\n",
       "      <td>415</td>\n",
       "    </tr>\n",
       "    <tr>\n",
       "      <th>2015-04-02</th>\n",
       "      <td>206</td>\n",
       "      <td>304</td>\n",
       "      <td>304</td>\n",
       "    </tr>\n",
       "    <tr>\n",
       "      <th>2015-04-03</th>\n",
       "      <td>250</td>\n",
       "      <td>358</td>\n",
       "      <td>358</td>\n",
       "    </tr>\n",
       "  </tbody>\n",
       "</table>\n",
       "</div>"
      ],
      "text/plain": [
       "              _row  country  user_id\n",
       "joining_date                        \n",
       "2015-02-28    467   677      677    \n",
       "2015-03-01    545   748      748    \n",
       "2015-03-02    612   857      857    \n",
       "2015-03-03    511   705      705    \n",
       "2015-03-04    322   449      449    \n",
       "2015-03-05    249   341      341    \n",
       "2015-03-06    252   344      344    \n",
       "2015-03-07    553   773      773    \n",
       "2015-03-08    454   656      656    \n",
       "2015-03-09    441   638      638    \n",
       "2015-03-10    470   673      673    \n",
       "2015-03-11    337   473      473    \n",
       "2015-03-12    197   279      279    \n",
       "2015-03-13    258   360      360    \n",
       "2015-03-14    542   764      764    \n",
       "2015-03-15    599   829      829    \n",
       "2015-03-16    532   743      743    \n",
       "2015-03-17    540   759      759    \n",
       "2015-03-18    334   460      460    \n",
       "2015-03-19    223   315      315    \n",
       "2015-03-20    255   359      359    \n",
       "2015-03-21    586   804      804    \n",
       "2015-03-22    447   633      633    \n",
       "2015-03-23    524   742      742    \n",
       "2015-03-24    491   690      690    \n",
       "2015-03-25    333   452      452    \n",
       "2015-03-26    178   261      261    \n",
       "2015-03-27    267   377      377    \n",
       "2015-03-28    445   646      646    \n",
       "2015-03-29    513   714      714    \n",
       "2015-03-30    508   720      720    \n",
       "2015-03-31    506   704      704    \n",
       "2015-04-01    298   415      415    \n",
       "2015-04-02    206   304      304    \n",
       "2015-04-03    250   358      358    "
      ]
     },
     "execution_count": 168,
     "metadata": {},
     "output_type": "execute_result"
    }
   ],
   "source": [
    "users.groupby('joining_date').count()"
   ]
  },
  {
   "cell_type": "code",
   "execution_count": null,
   "metadata": {
    "collapsed": true
   },
   "outputs": [],
   "source": []
  },
  {
   "cell_type": "code",
   "execution_count": 169,
   "metadata": {},
   "outputs": [
    {
     "data": {
      "text/plain": [
       "joining_date\n",
       "2015-02-28    677\n",
       "2015-03-01    748\n",
       "2015-03-02    857\n",
       "2015-03-03    705\n",
       "2015-03-04    449\n",
       "2015-03-05    341\n",
       "2015-03-06    344\n",
       "2015-03-07    773\n",
       "2015-03-08    656\n",
       "2015-03-09    638\n",
       "2015-03-10    673\n",
       "2015-03-11    473\n",
       "2015-03-12    279\n",
       "2015-03-13    360\n",
       "2015-03-14    764\n",
       "2015-03-15    829\n",
       "2015-03-16    743\n",
       "2015-03-17    759\n",
       "2015-03-18    460\n",
       "2015-03-19    315\n",
       "2015-03-20    359\n",
       "2015-03-21    804\n",
       "2015-03-22    633\n",
       "2015-03-23    742\n",
       "2015-03-24    690\n",
       "2015-03-25    452\n",
       "2015-03-26    261\n",
       "2015-03-27    377\n",
       "2015-03-28    646\n",
       "2015-03-29    714\n",
       "2015-03-30    720\n",
       "2015-03-31    704\n",
       "2015-04-01    415\n",
       "2015-04-02    304\n",
       "2015-04-03    358\n",
       "Name: joining_date, dtype: int64"
      ]
     },
     "execution_count": 169,
     "metadata": {},
     "output_type": "execute_result"
    }
   ],
   "source": [
    "# count users per joining date:\n",
    "users.groupby('joining_date')['joining_date'].count()"
   ]
  },
  {
   "cell_type": "code",
   "execution_count": 33,
   "metadata": {},
   "outputs": [
    {
     "data": {
      "text/plain": [
       "20022"
      ]
     },
     "execution_count": 33,
     "metadata": {},
     "output_type": "execute_result"
    }
   ],
   "source": [
    "# count all users:\n",
    "users.groupby('joining_date')['joining_date'].count().sum()"
   ]
  },
  {
   "cell_type": "code",
   "execution_count": 170,
   "metadata": {},
   "outputs": [
    {
     "data": {
      "text/plain": [
       "joining_date\n",
       "2015-02-28    677\n",
       "2015-03-01    748\n",
       "2015-03-02    857\n",
       "2015-03-03    705\n",
       "2015-03-04    449\n",
       "2015-03-05    341\n",
       "2015-03-06    344\n",
       "2015-03-07    773\n",
       "2015-03-08    656\n",
       "2015-03-09    638\n",
       "2015-03-10    673\n",
       "2015-03-11    473\n",
       "2015-03-12    279\n",
       "2015-03-13    360\n",
       "2015-03-14    764\n",
       "2015-03-15    829\n",
       "2015-03-16    743\n",
       "2015-03-17    759\n",
       "2015-03-18    460\n",
       "2015-03-19    315\n",
       "2015-03-20    359\n",
       "2015-03-21    804\n",
       "2015-03-22    633\n",
       "2015-03-23    742\n",
       "2015-03-24    690\n",
       "2015-03-25    452\n",
       "2015-03-26    261\n",
       "2015-03-27    377\n",
       "2015-03-28    646\n",
       "2015-03-29    714\n",
       "2015-03-30    720\n",
       "2015-03-31    704\n",
       "2015-04-01    415\n",
       "2015-04-02    304\n",
       "2015-04-03    358\n",
       "Name: joining_date, dtype: int64"
      ]
     },
     "execution_count": 170,
     "metadata": {},
     "output_type": "execute_result"
    }
   ],
   "source": [
    "# How many users join from US for each date?\n",
    "users.groupby('joining_date')['joining_date'].count()"
   ]
  },
  {
   "cell_type": "code",
   "execution_count": 35,
   "metadata": {},
   "outputs": [
    {
     "data": {
      "text/plain": [
       "joining_date\n",
       "2015-02-28    129\n",
       "2015-03-01    113\n",
       "2015-03-02    114\n",
       "2015-03-03    98 \n",
       "2015-03-04    58 \n",
       "2015-03-05    44 \n",
       "2015-03-06    40 \n",
       "2015-03-07    110\n",
       "2015-03-08    95 \n",
       "2015-03-09    96 \n",
       "2015-03-10    102\n",
       "2015-03-11    82 \n",
       "2015-03-12    37 \n",
       "2015-03-13    44 \n",
       "2015-03-14    138\n",
       "2015-03-15    133\n",
       "2015-03-16    90 \n",
       "2015-03-17    100\n",
       "2015-03-18    34 \n",
       "2015-03-19    29 \n",
       "2015-03-20    62 \n",
       "2015-03-21    110\n",
       "2015-03-22    76 \n",
       "2015-03-23    74 \n",
       "2015-03-24    95 \n",
       "2015-03-25    70 \n",
       "2015-03-26    11 \n",
       "2015-03-27    59 \n",
       "2015-03-28    82 \n",
       "2015-03-29    114\n",
       "2015-03-30    126\n",
       "2015-03-31    106\n",
       "2015-04-01    46 \n",
       "2015-04-02    33 \n",
       "2015-04-03    70 \n",
       "Name: joining_date, dtype: int64"
      ]
     },
     "execution_count": 35,
     "metadata": {},
     "output_type": "execute_result"
    }
   ],
   "source": [
    "# # What is the sum of users that joined, for each country\n",
    "# users.groupby('country')['country'].count()\n",
    "users[users['country'] == ''].groupby('joining_date')['joining_date'].count()"
   ]
  },
  {
   "cell_type": "code",
   "execution_count": 36,
   "metadata": {},
   "outputs": [
    {
     "data": {
      "text/plain": [
       "14245"
      ]
     },
     "execution_count": 36,
     "metadata": {},
     "output_type": "execute_result"
    }
   ],
   "source": [
    "# What's up with _row field? How many are there?\n",
    "users['_row'].count()"
   ]
  },
  {
   "cell_type": "code",
   "execution_count": 37,
   "metadata": {},
   "outputs": [
    {
     "data": {
      "text/plain": [
       "14245"
      ]
     },
     "execution_count": 37,
     "metadata": {},
     "output_type": "execute_result"
    }
   ],
   "source": [
    "# What's up with _row field? How many unique\n",
    "users['_row'].nunique()"
   ]
  },
  {
   "cell_type": "code",
   "execution_count": 38,
   "metadata": {},
   "outputs": [
    {
     "data": {
      "text/plain": [
       "<matplotlib.axes._subplots.AxesSubplot at 0x11468c208>"
      ]
     },
     "execution_count": 38,
     "metadata": {},
     "output_type": "execute_result"
    },
    {
     "data": {
      "image/png": "[encoded data removed]",
      "text/plain": [
       "<matplotlib.figure.Figure at 0x11465ddd8>"
      ]
     },
     "metadata": {},
     "output_type": "display_data"
    }
   ],
   "source": [
    "# plot the joining dates:\n",
    "\n",
    "users.joining_date = pd.to_datetime(users['joining_date'], format='%Y-%m-%d')\n",
    "users.set_index(['joining_date'], inplace=True)\n",
    "users.plot()"
   ]
  },
  {
   "cell_type": "code",
   "execution_count": 39,
   "metadata": {},
   "outputs": [
    {
     "data": {
      "text/html": [
       "<div>\n",
       "<style>\n",
       "    .dataframe thead tr:only-child th {\n",
       "        text-align: right;\n",
       "    }\n",
       "\n",
       "    .dataframe thead th {\n",
       "        text-align: left;\n",
       "    }\n",
       "\n",
       "    .dataframe tbody tr th {\n",
       "        vertical-align: top;\n",
       "    }\n",
       "</style>\n",
       "<table border=\"1\" class=\"dataframe\">\n",
       "  <thead>\n",
       "    <tr style=\"text-align: right;\">\n",
       "      <th></th>\n",
       "      <th>city</th>\n",
       "      <th>country</th>\n",
       "      <th>session_id</th>\n",
       "      <th>timestamp</th>\n",
       "      <th>user</th>\n",
       "    </tr>\n",
       "  </thead>\n",
       "  <tbody>\n",
       "    <tr>\n",
       "      <th>0</th>\n",
       "      <td>New York NY</td>\n",
       "      <td>UK</td>\n",
       "      <td>[X061RFWB06K9V]</td>\n",
       "      <td>[1442503708]</td>\n",
       "      <td>2024</td>\n",
       "    </tr>\n",
       "    <tr>\n",
       "      <th>1</th>\n",
       "      <td>Newark NJ</td>\n",
       "      <td>UK</td>\n",
       "      <td>[X061RFWB06K9V]</td>\n",
       "      <td>[1442503708]</td>\n",
       "      <td>2024</td>\n",
       "    </tr>\n",
       "    <tr>\n",
       "      <th>2</th>\n",
       "      <td>New York NY</td>\n",
       "      <td>DE</td>\n",
       "      <td>[5AZ2X2A9BHH5U]</td>\n",
       "      <td>[1441353991]</td>\n",
       "      <td>2853</td>\n",
       "    </tr>\n",
       "    <tr>\n",
       "      <th>3</th>\n",
       "      <td>Jersey City NJ</td>\n",
       "      <td>DE</td>\n",
       "      <td>[5AZ2X2A9BHH5U]</td>\n",
       "      <td>[1441353991]</td>\n",
       "      <td>2853</td>\n",
       "    </tr>\n",
       "    <tr>\n",
       "      <th>4</th>\n",
       "      <td>Philadelphia PA</td>\n",
       "      <td>DE</td>\n",
       "      <td>[5AZ2X2A9BHH5U]</td>\n",
       "      <td>[1441353991]</td>\n",
       "      <td>2853</td>\n",
       "    </tr>\n",
       "    <tr>\n",
       "      <th>5</th>\n",
       "      <td>San Antonio TX</td>\n",
       "      <td>UK</td>\n",
       "      <td>[SHTB4IYAX4PX6]</td>\n",
       "      <td>[1440843490]</td>\n",
       "      <td>10958</td>\n",
       "    </tr>\n",
       "    <tr>\n",
       "      <th>6</th>\n",
       "      <td>Edmonton AB</td>\n",
       "      <td>IT</td>\n",
       "      <td>[JBRB8MZGTX3M4]</td>\n",
       "      <td>[1427268063]</td>\n",
       "      <td>7693</td>\n",
       "    </tr>\n",
       "    <tr>\n",
       "      <th>7</th>\n",
       "      <td>Phoenix AZ</td>\n",
       "      <td>UK</td>\n",
       "      <td>[YJCMPURC2FL9C]</td>\n",
       "      <td>[1430559067]</td>\n",
       "      <td>7506</td>\n",
       "    </tr>\n",
       "    <tr>\n",
       "      <th>8</th>\n",
       "      <td>Houston TX</td>\n",
       "      <td>UK</td>\n",
       "      <td>[YJCMPURC2FL9C]</td>\n",
       "      <td>[1430559067]</td>\n",
       "      <td>7506</td>\n",
       "    </tr>\n",
       "    <tr>\n",
       "      <th>9</th>\n",
       "      <td>San Diego CA</td>\n",
       "      <td>ES</td>\n",
       "      <td>[LKOKP80QD6BEO]</td>\n",
       "      <td>[1434199991]</td>\n",
       "      <td>3743</td>\n",
       "    </tr>\n",
       "  </tbody>\n",
       "</table>\n",
       "</div>"
      ],
      "text/plain": [
       "              city country       session_id     timestamp   user\n",
       "0  New York NY      UK      [X061RFWB06K9V]  [1442503708]  2024 \n",
       "1  Newark NJ        UK      [X061RFWB06K9V]  [1442503708]  2024 \n",
       "2  New York NY      DE      [5AZ2X2A9BHH5U]  [1441353991]  2853 \n",
       "3  Jersey City NJ   DE      [5AZ2X2A9BHH5U]  [1441353991]  2853 \n",
       "4  Philadelphia PA  DE      [5AZ2X2A9BHH5U]  [1441353991]  2853 \n",
       "5  San Antonio TX   UK      [SHTB4IYAX4PX6]  [1440843490]  10958\n",
       "6  Edmonton AB      IT      [JBRB8MZGTX3M4]  [1427268063]  7693 \n",
       "7  Phoenix AZ       UK      [YJCMPURC2FL9C]  [1430559067]  7506 \n",
       "8  Houston TX       UK      [YJCMPURC2FL9C]  [1430559067]  7506 \n",
       "9  San Diego CA     ES      [LKOKP80QD6BEO]  [1434199991]  3743 "
      ]
     },
     "execution_count": 39,
     "metadata": {},
     "output_type": "execute_result"
    }
   ],
   "source": [
    "# Split Pandas Dataframe 'Cities' column containing lists into multiple rows, duplicating the other column's values.\n",
    "\n",
    "#Following function is taken from: https://gist.github.com/jlln/338b4b0b55bd6984f883 [[[\n",
    "def splitDataFrameList(df,target_column,separator):\n",
    "    ''' df = dataframe to split,\n",
    "    target_column = the column containing the values to split\n",
    "    separator = the symbol used to perform the split\n",
    "    returns: a dataframe with each entry for the target column separated, with each element moved into a new row. \n",
    "    The values in the other columns are duplicated across the newly divided rows.\n",
    "    '''\n",
    "    def splitListToRows(row,row_accumulator,target_column,separator):\n",
    "        split_row = row[target_column].split(separator)\n",
    "        for s in split_row:\n",
    "            new_row = row.to_dict()\n",
    "            new_row[target_column] = s.lstrip()\n",
    "            row_accumulator.append(new_row)\n",
    "    new_rows = []\n",
    "    df.apply(splitListToRows,axis=1,args = (new_rows,target_column,separator))\n",
    "    new_df = pd.DataFrame(new_rows)\n",
    "    return new_df\n",
    "# ]]]\n",
    "\n",
    "cities = splitDataFrameList(flattened_data_frame, 'cities', ',')\n",
    "# rename the column\n",
    "cities.rename(columns={'cities':'city'}, inplace=True)\n",
    "cities.head(10)"
   ]
  },
  {
   "cell_type": "code",
   "execution_count": 40,
   "metadata": {},
   "outputs": [
    {
     "data": {
      "text/plain": [
       "New York NY                    5361\n",
       "Toronto ON                     3279\n",
       "Los Angeles CA                 2672\n",
       "Montreal QC                    2336\n",
       "Chicago IL                     1979\n",
       "Houston TX                     1394\n",
       "Vancouver BC                   1376\n",
       "Philadelphia PA                1056\n",
       "San Antonio TX                 749 \n",
       "Phoenix AZ                     723 \n",
       "San Diego CA                   705 \n",
       "OTTAWA ON                      694 \n",
       "Dallas TX                      657 \n",
       "Jersey City NJ                 611 \n",
       "Calgary AB                     583 \n",
       "Newark NJ                      529 \n",
       "Edmonton AB                    493 \n",
       "Indianapolis IN                469 \n",
       "Detroit MI                     427 \n",
       "San Jose CA                    415 \n",
       "Jacksonville FL                406 \n",
       "Columbus OH                    366 \n",
       "Oshawa ON                      365 \n",
       "Saint Catharines-Niagara ON    306 \n",
       "Long Beach CA                  298 \n",
       "Santa Ana CA                   282 \n",
       "Anaheim CA                     266 \n",
       "Austin TX                      238 \n",
       "Baltimore MD                   231 \n",
       "Hamilton ON                    217 \n",
       "                              ...  \n",
       "San Francisco CA               44  \n",
       "Saint Petersburg FL            41  \n",
       "Bakersfield CA                 39  \n",
       "Norfolk VA                     39  \n",
       "Stockton CA                    37  \n",
       "Oklahoma City OK               35  \n",
       "Sacramento CA                  32  \n",
       "Hialeah FL                     24  \n",
       "Miami FL                       24  \n",
       "Atlanta GA                     21  \n",
       "Fresno CA                      20  \n",
       "Tucson AZ                      18  \n",
       "Virginia Beach VA              17  \n",
       "Chesapeake VA                  17  \n",
       "Saint Paul MN                  13  \n",
       "Minneapolis MN                 12  \n",
       "Tulsa OK                       11  \n",
       "Nashville TN                   8   \n",
       "Birmingham AL                  7   \n",
       "Halifax NS                     7   \n",
       "Wichita KS                     6   \n",
       "Raleigh NC                     4   \n",
       "Omaha NE                       3   \n",
       "Charlotte NC                   3   \n",
       "Memphis TN                     3   \n",
       "Lincoln NE                     3   \n",
       "Greensboro NC                  2   \n",
       "Kansas City MO                 2   \n",
       "New Orleans LA                 1   \n",
       "Pittsburgh PA                  1   \n",
       "Name: city, Length: 89, dtype: int64"
      ]
     },
     "execution_count": 40,
     "metadata": {},
     "output_type": "execute_result"
    }
   ],
   "source": [
    "cities['city'].value_counts()"
   ]
  },
  {
   "cell_type": "code",
   "execution_count": 41,
   "metadata": {},
   "outputs": [
    {
     "data": {
      "text/plain": [
       "89"
      ]
     },
     "execution_count": 41,
     "metadata": {},
     "output_type": "execute_result"
    }
   ],
   "source": [
    "# How many unique cities have been searched by all users?\n",
    "cities['city'].nunique()"
   ]
  },
  {
   "cell_type": "code",
   "execution_count": 42,
   "metadata": {},
   "outputs": [
    {
     "data": {
      "text/plain": [
       "5777"
      ]
     },
     "execution_count": 42,
     "metadata": {},
     "output_type": "execute_result"
    }
   ],
   "source": [
    "# How many unique users\n",
    "users['user_id'].nunique()"
   ]
  },
  {
   "cell_type": "code",
   "execution_count": 43,
   "metadata": {},
   "outputs": [
    {
     "data": {
      "text/plain": [
       "7"
      ]
     },
     "execution_count": 43,
     "metadata": {},
     "output_type": "execute_result"
    }
   ],
   "source": [
    "# How many unique countries of origin\n",
    "users['country'].nunique()"
   ]
  },
  {
   "cell_type": "code",
   "execution_count": 44,
   "metadata": {},
   "outputs": [
    {
     "data": {
      "text/html": [
       "<div>\n",
       "<style>\n",
       "    .dataframe thead tr:only-child th {\n",
       "        text-align: right;\n",
       "    }\n",
       "\n",
       "    .dataframe thead th {\n",
       "        text-align: left;\n",
       "    }\n",
       "\n",
       "    .dataframe tbody tr th {\n",
       "        vertical-align: top;\n",
       "    }\n",
       "</style>\n",
       "<table border=\"1\" class=\"dataframe\">\n",
       "  <thead>\n",
       "    <tr style=\"text-align: right;\">\n",
       "      <th></th>\n",
       "      <th>country</th>\n",
       "      <th>cities</th>\n",
       "      <th>user</th>\n",
       "      <th>timestamp</th>\n",
       "      <th>session_id</th>\n",
       "    </tr>\n",
       "  </thead>\n",
       "  <tbody>\n",
       "    <tr>\n",
       "      <th>0</th>\n",
       "      <td>UK</td>\n",
       "      <td>New York NY, Newark NJ</td>\n",
       "      <td>2024</td>\n",
       "      <td>[1442503708]</td>\n",
       "      <td>[X061RFWB06K9V]</td>\n",
       "    </tr>\n",
       "    <tr>\n",
       "      <th>1</th>\n",
       "      <td>DE</td>\n",
       "      <td>New York NY, Jersey City NJ, Philadelphia PA</td>\n",
       "      <td>2853</td>\n",
       "      <td>[1441353991]</td>\n",
       "      <td>[5AZ2X2A9BHH5U]</td>\n",
       "    </tr>\n",
       "    <tr>\n",
       "      <th>2</th>\n",
       "      <td>UK</td>\n",
       "      <td>San Antonio TX</td>\n",
       "      <td>10958</td>\n",
       "      <td>[1440843490]</td>\n",
       "      <td>[SHTB4IYAX4PX6]</td>\n",
       "    </tr>\n",
       "    <tr>\n",
       "      <th>3</th>\n",
       "      <td>IT</td>\n",
       "      <td>Edmonton AB</td>\n",
       "      <td>7693</td>\n",
       "      <td>[1427268063]</td>\n",
       "      <td>[JBRB8MZGTX3M4]</td>\n",
       "    </tr>\n",
       "    <tr>\n",
       "      <th>4</th>\n",
       "      <td>UK</td>\n",
       "      <td>Phoenix AZ, Houston TX</td>\n",
       "      <td>7506</td>\n",
       "      <td>[1430559067]</td>\n",
       "      <td>[YJCMPURC2FL9C]</td>\n",
       "    </tr>\n",
       "    <tr>\n",
       "      <th>5</th>\n",
       "      <td>ES</td>\n",
       "      <td>San Diego CA</td>\n",
       "      <td>3743</td>\n",
       "      <td>[1434199991]</td>\n",
       "      <td>[LKOKP80QD6BEO]</td>\n",
       "    </tr>\n",
       "    <tr>\n",
       "      <th>8</th>\n",
       "      <td>US</td>\n",
       "      <td>Chicago IL, New York NY</td>\n",
       "      <td>365</td>\n",
       "      <td>NaN</td>\n",
       "      <td>[9P74JL5KMC9G9]</td>\n",
       "    </tr>\n",
       "    <tr>\n",
       "      <th>10</th>\n",
       "      <td>US</td>\n",
       "      <td>Los Angeles CA</td>\n",
       "      <td>7034</td>\n",
       "      <td>[1442958449]</td>\n",
       "      <td>[FASF5QS8ARSGQ]</td>\n",
       "    </tr>\n",
       "    <tr>\n",
       "      <th>11</th>\n",
       "      <td>UK</td>\n",
       "      <td>Phoenix AZ</td>\n",
       "      <td>5723</td>\n",
       "      <td>[1434462396]</td>\n",
       "      <td>[R9I7W4UA0Y8AM]</td>\n",
       "    </tr>\n",
       "    <tr>\n",
       "      <th>12</th>\n",
       "      <td>DE</td>\n",
       "      <td>New York NY</td>\n",
       "      <td>8531</td>\n",
       "      <td>[1429525336]</td>\n",
       "      <td>[7NBQMFVHU0GAP]</td>\n",
       "    </tr>\n",
       "  </tbody>\n",
       "</table>\n",
       "</div>"
      ],
      "text/plain": [
       "   country                                        cities   user     timestamp  \\\n",
       "0   UK      New York NY, Newark NJ                        2024   [1442503708]   \n",
       "1   DE      New York NY, Jersey City NJ, Philadelphia PA  2853   [1441353991]   \n",
       "2   UK      San Antonio TX                                10958  [1440843490]   \n",
       "3   IT      Edmonton AB                                   7693   [1427268063]   \n",
       "4   UK      Phoenix AZ, Houston TX                        7506   [1430559067]   \n",
       "5   ES      San Diego CA                                  3743   [1434199991]   \n",
       "8   US      Chicago IL, New York NY                       365    NaN            \n",
       "10  US      Los Angeles CA                                7034   [1442958449]   \n",
       "11  UK      Phoenix AZ                                    5723   [1434462396]   \n",
       "12  DE      New York NY                                   8531   [1429525336]   \n",
       "\n",
       "         session_id  \n",
       "0   [X061RFWB06K9V]  \n",
       "1   [5AZ2X2A9BHH5U]  \n",
       "2   [SHTB4IYAX4PX6]  \n",
       "3   [JBRB8MZGTX3M4]  \n",
       "4   [YJCMPURC2FL9C]  \n",
       "5   [LKOKP80QD6BEO]  \n",
       "8   [9P74JL5KMC9G9]  \n",
       "10  [FASF5QS8ARSGQ]  \n",
       "11  [R9I7W4UA0Y8AM]  \n",
       "12  [7NBQMFVHU0GAP]  "
      ]
     },
     "execution_count": 44,
     "metadata": {},
     "output_type": "execute_result"
    }
   ],
   "source": [
    "dataset_with_country_values = flattened_data_frame[flattened_data_frame['country'] != '']\n",
    "dataset_with_country_values.head(10)"
   ]
  },
  {
   "cell_type": "code",
   "execution_count": 45,
   "metadata": {},
   "outputs": [
    {
     "data": {
      "text/plain": [
       "17202"
      ]
     },
     "execution_count": 45,
     "metadata": {},
     "output_type": "execute_result"
    }
   ],
   "source": [
    "# How many records with country values\n",
    "len(dataset_with_country_values)"
   ]
  },
  {
   "cell_type": "code",
   "execution_count": 46,
   "metadata": {},
   "outputs": [
    {
     "data": {
      "text/plain": [
       "2820"
      ]
     },
     "execution_count": 46,
     "metadata": {},
     "output_type": "execute_result"
    }
   ],
   "source": [
    "# How many records with missing country values\n",
    "dataset_with_no_country_values = flattened_data_frame[flattened_data_frame['country'] == '']\n",
    "len(dataset_with_no_country_values)"
   ]
  },
  {
   "cell_type": "code",
   "execution_count": 47,
   "metadata": {},
   "outputs": [
    {
     "data": {
      "text/html": [
       "<div>\n",
       "<style>\n",
       "    .dataframe thead tr:only-child th {\n",
       "        text-align: right;\n",
       "    }\n",
       "\n",
       "    .dataframe thead th {\n",
       "        text-align: left;\n",
       "    }\n",
       "\n",
       "    .dataframe tbody tr th {\n",
       "        vertical-align: top;\n",
       "    }\n",
       "</style>\n",
       "<table border=\"1\" class=\"dataframe\">\n",
       "  <thead>\n",
       "    <tr style=\"text-align: right;\">\n",
       "      <th></th>\n",
       "      <th>country</th>\n",
       "      <th>cities</th>\n",
       "      <th>user</th>\n",
       "      <th>timestamp</th>\n",
       "      <th>session_id</th>\n",
       "    </tr>\n",
       "  </thead>\n",
       "  <tbody>\n",
       "    <tr>\n",
       "      <th>6</th>\n",
       "      <td></td>\n",
       "      <td>Montreal QC, Chicago IL</td>\n",
       "      <td>8831</td>\n",
       "      <td>[1443171887]</td>\n",
       "      <td>[YOVUIM79SGS5Y]</td>\n",
       "    </tr>\n",
       "    <tr>\n",
       "      <th>7</th>\n",
       "      <td></td>\n",
       "      <td>Calgary AB, New York NY</td>\n",
       "      <td>587</td>\n",
       "      <td>[1431766104]</td>\n",
       "      <td>[SHXEY67QWKP9K]</td>\n",
       "    </tr>\n",
       "    <tr>\n",
       "      <th>9</th>\n",
       "      <td></td>\n",
       "      <td>New York NY</td>\n",
       "      <td>5995</td>\n",
       "      <td>[1439104667]</td>\n",
       "      <td>[UY49RTVRX3GL7]</td>\n",
       "    </tr>\n",
       "    <tr>\n",
       "      <th>19</th>\n",
       "      <td></td>\n",
       "      <td>Toronto ON, New York NY</td>\n",
       "      <td>957</td>\n",
       "      <td>[1439713760]</td>\n",
       "      <td>[YQAEPPG214CNU]</td>\n",
       "    </tr>\n",
       "    <tr>\n",
       "      <th>37</th>\n",
       "      <td></td>\n",
       "      <td>New York NY</td>\n",
       "      <td>5433</td>\n",
       "      <td>[1436444694]</td>\n",
       "      <td>[51H4C2DEYXG5D]</td>\n",
       "    </tr>\n",
       "  </tbody>\n",
       "</table>\n",
       "</div>"
      ],
      "text/plain": [
       "   country                   cities  user     timestamp       session_id\n",
       "6           Montreal QC, Chicago IL  8831  [1443171887]  [YOVUIM79SGS5Y]\n",
       "7           Calgary AB, New York NY  587   [1431766104]  [SHXEY67QWKP9K]\n",
       "9           New York NY              5995  [1439104667]  [UY49RTVRX3GL7]\n",
       "19          Toronto ON, New York NY  957   [1439713760]  [YQAEPPG214CNU]\n",
       "37          New York NY              5433  [1436444694]  [51H4C2DEYXG5D]"
      ]
     },
     "execution_count": 47,
     "metadata": {},
     "output_type": "execute_result"
    }
   ],
   "source": [
    "dataset_with_no_country_values.head()"
   ]
  },
  {
   "cell_type": "code",
   "execution_count": 48,
   "metadata": {
    "collapsed": true
   },
   "outputs": [],
   "source": [
    "#  convert a column to a category, \n",
    "# then use those category values for your label encoding:\n",
    "\n",
    "# cities['country'] = cities['country'].astype('category')\n",
    "cities['city'] = cities['city'].astype('category')\n",
    "# cities[\"country\"] = cities[\"country\"].cat.codes\n",
    "cities[\"city\"] = cities[\"city\"].cat.codes\n",
    "# cities.head()\n",
    "\n",
    "unique_cities = cities.groupby(\"city\").first()\n",
    "unique_countries = cities.groupby(\"country\").first()"
   ]
  },
  {
   "cell_type": "code",
   "execution_count": 49,
   "metadata": {},
   "outputs": [
    {
     "data": {
      "text/html": [
       "<div>\n",
       "<style>\n",
       "    .dataframe thead tr:only-child th {\n",
       "        text-align: right;\n",
       "    }\n",
       "\n",
       "    .dataframe thead th {\n",
       "        text-align: left;\n",
       "    }\n",
       "\n",
       "    .dataframe tbody tr th {\n",
       "        vertical-align: top;\n",
       "    }\n",
       "</style>\n",
       "<table border=\"1\" class=\"dataframe\">\n",
       "  <thead>\n",
       "    <tr style=\"text-align: right;\">\n",
       "      <th></th>\n",
       "      <th>city</th>\n",
       "      <th>session_id</th>\n",
       "      <th>timestamp</th>\n",
       "      <th>user</th>\n",
       "    </tr>\n",
       "    <tr>\n",
       "      <th>country</th>\n",
       "      <th></th>\n",
       "      <th></th>\n",
       "      <th></th>\n",
       "      <th></th>\n",
       "    </tr>\n",
       "  </thead>\n",
       "  <tbody>\n",
       "    <tr>\n",
       "      <th></th>\n",
       "      <td>47</td>\n",
       "      <td>[YOVUIM79SGS5Y]</td>\n",
       "      <td>[1443171887]</td>\n",
       "      <td>8831</td>\n",
       "    </tr>\n",
       "    <tr>\n",
       "      <th>DE</th>\n",
       "      <td>50</td>\n",
       "      <td>[5AZ2X2A9BHH5U]</td>\n",
       "      <td>[1441353991]</td>\n",
       "      <td>2853</td>\n",
       "    </tr>\n",
       "    <tr>\n",
       "      <th>ES</th>\n",
       "      <td>71</td>\n",
       "      <td>[LKOKP80QD6BEO]</td>\n",
       "      <td>[1434199991]</td>\n",
       "      <td>3743</td>\n",
       "    </tr>\n",
       "    <tr>\n",
       "      <th>FR</th>\n",
       "      <td>30</td>\n",
       "      <td>[UU2XAOQMP5V35]</td>\n",
       "      <td>[1430372377]</td>\n",
       "      <td>3607</td>\n",
       "    </tr>\n",
       "    <tr>\n",
       "      <th>IT</th>\n",
       "      <td>20</td>\n",
       "      <td>[JBRB8MZGTX3M4]</td>\n",
       "      <td>[1427268063]</td>\n",
       "      <td>7693</td>\n",
       "    </tr>\n",
       "    <tr>\n",
       "      <th>UK</th>\n",
       "      <td>50</td>\n",
       "      <td>[X061RFWB06K9V]</td>\n",
       "      <td>[1442503708]</td>\n",
       "      <td>2024</td>\n",
       "    </tr>\n",
       "    <tr>\n",
       "      <th>US</th>\n",
       "      <td>13</td>\n",
       "      <td>[9P74JL5KMC9G9]</td>\n",
       "      <td>[1442958449]</td>\n",
       "      <td>365</td>\n",
       "    </tr>\n",
       "  </tbody>\n",
       "</table>\n",
       "</div>"
      ],
      "text/plain": [
       "         city       session_id     timestamp  user\n",
       "country                                           \n",
       "         47    [YOVUIM79SGS5Y]  [1443171887]  8831\n",
       "DE       50    [5AZ2X2A9BHH5U]  [1441353991]  2853\n",
       "ES       71    [LKOKP80QD6BEO]  [1434199991]  3743\n",
       "FR       30    [UU2XAOQMP5V35]  [1430372377]  3607\n",
       "IT       20    [JBRB8MZGTX3M4]  [1427268063]  7693\n",
       "UK       50    [X061RFWB06K9V]  [1442503708]  2024\n",
       "US       13    [9P74JL5KMC9G9]  [1442958449]  365 "
      ]
     },
     "execution_count": 49,
     "metadata": {},
     "output_type": "execute_result"
    }
   ],
   "source": [
    "unique_countries"
   ]
  },
  {
   "cell_type": "code",
   "execution_count": 50,
   "metadata": {},
   "outputs": [
    {
     "data": {
      "image/png": "[encoded data removed]",
      "text/plain": [
       "<matplotlib.figure.Figure at 0x1147bb588>"
      ]
     },
     "metadata": {},
     "output_type": "display_data"
    }
   ],
   "source": [
    "correlations = cities.corr()\n",
    "names = ['country', 'cities']\n",
    "\n",
    "# plot correlation matrix\n",
    "fig = plt.figure()\n",
    "ax = fig.add_subplot(111)\n",
    "cax = ax.matshow(correlations, vmin=0, vmax=6)\n",
    "fig.colorbar(cax)\n",
    "ticks = np.arange(0,1,1)\n",
    "ax.set_xticks(ticks)\n",
    "ax.set_yticks(ticks)\n",
    "ax.set_xticklabels(names)\n",
    "ax.set_yticklabels(names)\n",
    "plt.show()"
   ]
  },
  {
   "cell_type": "code",
   "execution_count": 51,
   "metadata": {},
   "outputs": [
    {
     "data": {
      "image/png": "[encoded data removed]",
      "text/plain": [
       "<matplotlib.figure.Figure at 0x1147a3470>"
      ]
     },
     "metadata": {},
     "output_type": "display_data"
    }
   ],
   "source": [
    "scatter_matrix(dataset_with_country_values)\n",
    "plt.show()"
   ]
  },
  {
   "cell_type": "code",
   "execution_count": 52,
   "metadata": {},
   "outputs": [
    {
     "data": {
      "text/html": [
       "<div>\n",
       "<style>\n",
       "    .dataframe thead tr:only-child th {\n",
       "        text-align: right;\n",
       "    }\n",
       "\n",
       "    .dataframe thead th {\n",
       "        text-align: left;\n",
       "    }\n",
       "\n",
       "    .dataframe tbody tr th {\n",
       "        vertical-align: top;\n",
       "    }\n",
       "</style>\n",
       "<table border=\"1\" class=\"dataframe\">\n",
       "  <thead>\n",
       "    <tr style=\"text-align: right;\">\n",
       "      <th></th>\n",
       "      <th>country</th>\n",
       "      <th>cities</th>\n",
       "      <th>user</th>\n",
       "      <th>timestamp</th>\n",
       "      <th>session_id</th>\n",
       "    </tr>\n",
       "  </thead>\n",
       "  <tbody>\n",
       "    <tr>\n",
       "      <th>0</th>\n",
       "      <td>UK</td>\n",
       "      <td>New York NY, Newark NJ</td>\n",
       "      <td>2024</td>\n",
       "      <td>[1442503708]</td>\n",
       "      <td>[X061RFWB06K9V]</td>\n",
       "    </tr>\n",
       "    <tr>\n",
       "      <th>1</th>\n",
       "      <td>DE</td>\n",
       "      <td>New York NY, Jersey City NJ, Philadelphia PA</td>\n",
       "      <td>2853</td>\n",
       "      <td>[1441353991]</td>\n",
       "      <td>[5AZ2X2A9BHH5U]</td>\n",
       "    </tr>\n",
       "    <tr>\n",
       "      <th>2</th>\n",
       "      <td>UK</td>\n",
       "      <td>San Antonio TX</td>\n",
       "      <td>10958</td>\n",
       "      <td>[1440843490]</td>\n",
       "      <td>[SHTB4IYAX4PX6]</td>\n",
       "    </tr>\n",
       "    <tr>\n",
       "      <th>3</th>\n",
       "      <td>IT</td>\n",
       "      <td>Edmonton AB</td>\n",
       "      <td>7693</td>\n",
       "      <td>[1427268063]</td>\n",
       "      <td>[JBRB8MZGTX3M4]</td>\n",
       "    </tr>\n",
       "    <tr>\n",
       "      <th>4</th>\n",
       "      <td>UK</td>\n",
       "      <td>Phoenix AZ, Houston TX</td>\n",
       "      <td>7506</td>\n",
       "      <td>[1430559067]</td>\n",
       "      <td>[YJCMPURC2FL9C]</td>\n",
       "    </tr>\n",
       "  </tbody>\n",
       "</table>\n",
       "</div>"
      ],
      "text/plain": [
       "  country                                        cities   user     timestamp  \\\n",
       "0  UK      New York NY, Newark NJ                        2024   [1442503708]   \n",
       "1  DE      New York NY, Jersey City NJ, Philadelphia PA  2853   [1441353991]   \n",
       "2  UK      San Antonio TX                                10958  [1440843490]   \n",
       "3  IT      Edmonton AB                                   7693   [1427268063]   \n",
       "4  UK      Phoenix AZ, Houston TX                        7506   [1430559067]   \n",
       "\n",
       "        session_id  \n",
       "0  [X061RFWB06K9V]  \n",
       "1  [5AZ2X2A9BHH5U]  \n",
       "2  [SHTB4IYAX4PX6]  \n",
       "3  [JBRB8MZGTX3M4]  \n",
       "4  [YJCMPURC2FL9C]  "
      ]
     },
     "execution_count": 52,
     "metadata": {},
     "output_type": "execute_result"
    }
   ],
   "source": [
    "# !pip install networkx\n",
    "flattened_data_frame.head(5)"
   ]
  },
  {
   "cell_type": "code",
   "execution_count": 53,
   "metadata": {
    "collapsed": true
   },
   "outputs": [],
   "source": [
    "def draw_communities(G, countries , pos):\n",
    "    \"\"\"Draws the nodes to a plot with assigned colors for each individual cluster\n",
    "    Parameters\n",
    "    ----------\n",
    "    G : networkx graph\n",
    "    countries : list\n",
    "        A list where the position is the user and the value at the position is the user's country.\n",
    "        E.g. `print(country[8]) --> 1` means that user's #8 country of origin is country 1.\n",
    "    pos : positioning as a networkx spring layout\n",
    "        E.g. nx.spring_layout(G)\n",
    "    \"\"\" \n",
    "    fig, ax = plt.subplots(figsize=(16,9))\n",
    "    \n",
    "    # Convert countries list to a dict where key=country, value=list of users in country\n",
    "    country_dict = defaultdict(list)\n",
    "    i = 0\n",
    "    for user, country in enumerate(countries):\n",
    "        country_dict[country].append(user)\n",
    "    \n",
    "    print(country_dict)\n",
    "    # Normalize number of countries for choosing a color\n",
    "#     norm = colors.Normalize(vmin=0, vmax=len(country_dict.keys()))\n",
    "    \n",
    "    for country, users in country_dict.items():\n",
    "        nx.draw_networkx_nodes(G, pos,\n",
    "                               nodelist=users,\n",
    "                               node_color=cm.jet(country),\n",
    "                               node_size=500,\n",
    "                               alpha=0.8,\n",
    "                               ax=ax)\n",
    "\n",
    "    # Draw edges (social connections) and show final plot\n",
    "    plt.title(\"Countries\")\n",
    "    nx.draw_networkx_edges(G, pos, alpha=0.5, ax=ax)"
   ]
  },
  {
   "cell_type": "code",
   "execution_count": 54,
   "metadata": {},
   "outputs": [
    {
     "data": {
      "text/html": [
       "<div>\n",
       "<style>\n",
       "    .dataframe thead tr:only-child th {\n",
       "        text-align: right;\n",
       "    }\n",
       "\n",
       "    .dataframe thead th {\n",
       "        text-align: left;\n",
       "    }\n",
       "\n",
       "    .dataframe tbody tr th {\n",
       "        vertical-align: top;\n",
       "    }\n",
       "</style>\n",
       "<table border=\"1\" class=\"dataframe\">\n",
       "  <thead>\n",
       "    <tr style=\"text-align: right;\">\n",
       "      <th></th>\n",
       "      <th>city</th>\n",
       "      <th>country</th>\n",
       "      <th>session_id</th>\n",
       "      <th>timestamp</th>\n",
       "      <th>user</th>\n",
       "    </tr>\n",
       "  </thead>\n",
       "  <tbody>\n",
       "    <tr>\n",
       "      <th>0</th>\n",
       "      <td>50</td>\n",
       "      <td>UK</td>\n",
       "      <td>[X061RFWB06K9V]</td>\n",
       "      <td>[1442503708]</td>\n",
       "      <td>2024</td>\n",
       "    </tr>\n",
       "    <tr>\n",
       "      <th>1</th>\n",
       "      <td>51</td>\n",
       "      <td>UK</td>\n",
       "      <td>[X061RFWB06K9V]</td>\n",
       "      <td>[1442503708]</td>\n",
       "      <td>2024</td>\n",
       "    </tr>\n",
       "    <tr>\n",
       "      <th>2</th>\n",
       "      <td>50</td>\n",
       "      <td>DE</td>\n",
       "      <td>[5AZ2X2A9BHH5U]</td>\n",
       "      <td>[1441353991]</td>\n",
       "      <td>2853</td>\n",
       "    </tr>\n",
       "    <tr>\n",
       "      <th>3</th>\n",
       "      <td>32</td>\n",
       "      <td>DE</td>\n",
       "      <td>[5AZ2X2A9BHH5U]</td>\n",
       "      <td>[1441353991]</td>\n",
       "      <td>2853</td>\n",
       "    </tr>\n",
       "    <tr>\n",
       "      <th>4</th>\n",
       "      <td>58</td>\n",
       "      <td>DE</td>\n",
       "      <td>[5AZ2X2A9BHH5U]</td>\n",
       "      <td>[1441353991]</td>\n",
       "      <td>2853</td>\n",
       "    </tr>\n",
       "    <tr>\n",
       "      <th>5</th>\n",
       "      <td>70</td>\n",
       "      <td>UK</td>\n",
       "      <td>[SHTB4IYAX4PX6]</td>\n",
       "      <td>[1440843490]</td>\n",
       "      <td>10958</td>\n",
       "    </tr>\n",
       "    <tr>\n",
       "      <th>6</th>\n",
       "      <td>20</td>\n",
       "      <td>IT</td>\n",
       "      <td>[JBRB8MZGTX3M4]</td>\n",
       "      <td>[1427268063]</td>\n",
       "      <td>7693</td>\n",
       "    </tr>\n",
       "    <tr>\n",
       "      <th>7</th>\n",
       "      <td>59</td>\n",
       "      <td>UK</td>\n",
       "      <td>[YJCMPURC2FL9C]</td>\n",
       "      <td>[1430559067]</td>\n",
       "      <td>7506</td>\n",
       "    </tr>\n",
       "    <tr>\n",
       "      <th>8</th>\n",
       "      <td>29</td>\n",
       "      <td>UK</td>\n",
       "      <td>[YJCMPURC2FL9C]</td>\n",
       "      <td>[1430559067]</td>\n",
       "      <td>7506</td>\n",
       "    </tr>\n",
       "    <tr>\n",
       "      <th>9</th>\n",
       "      <td>71</td>\n",
       "      <td>ES</td>\n",
       "      <td>[LKOKP80QD6BEO]</td>\n",
       "      <td>[1434199991]</td>\n",
       "      <td>3743</td>\n",
       "    </tr>\n",
       "    <tr>\n",
       "      <th>10</th>\n",
       "      <td>47</td>\n",
       "      <td></td>\n",
       "      <td>[YOVUIM79SGS5Y]</td>\n",
       "      <td>[1443171887]</td>\n",
       "      <td>8831</td>\n",
       "    </tr>\n",
       "    <tr>\n",
       "      <th>11</th>\n",
       "      <td>13</td>\n",
       "      <td></td>\n",
       "      <td>[YOVUIM79SGS5Y]</td>\n",
       "      <td>[1443171887]</td>\n",
       "      <td>8831</td>\n",
       "    </tr>\n",
       "    <tr>\n",
       "      <th>12</th>\n",
       "      <td>9</td>\n",
       "      <td></td>\n",
       "      <td>[SHXEY67QWKP9K]</td>\n",
       "      <td>[1431766104]</td>\n",
       "      <td>587</td>\n",
       "    </tr>\n",
       "    <tr>\n",
       "      <th>13</th>\n",
       "      <td>50</td>\n",
       "      <td></td>\n",
       "      <td>[SHXEY67QWKP9K]</td>\n",
       "      <td>[1431766104]</td>\n",
       "      <td>587</td>\n",
       "    </tr>\n",
       "  </tbody>\n",
       "</table>\n",
       "</div>"
      ],
      "text/plain": [
       "    city country       session_id     timestamp   user\n",
       "0   50    UK      [X061RFWB06K9V]  [1442503708]  2024 \n",
       "1   51    UK      [X061RFWB06K9V]  [1442503708]  2024 \n",
       "2   50    DE      [5AZ2X2A9BHH5U]  [1441353991]  2853 \n",
       "3   32    DE      [5AZ2X2A9BHH5U]  [1441353991]  2853 \n",
       "4   58    DE      [5AZ2X2A9BHH5U]  [1441353991]  2853 \n",
       "5   70    UK      [SHTB4IYAX4PX6]  [1440843490]  10958\n",
       "6   20    IT      [JBRB8MZGTX3M4]  [1427268063]  7693 \n",
       "7   59    UK      [YJCMPURC2FL9C]  [1430559067]  7506 \n",
       "8   29    UK      [YJCMPURC2FL9C]  [1430559067]  7506 \n",
       "9   71    ES      [LKOKP80QD6BEO]  [1434199991]  3743 \n",
       "10  47            [YOVUIM79SGS5Y]  [1443171887]  8831 \n",
       "11  13            [YOVUIM79SGS5Y]  [1443171887]  8831 \n",
       "12  9             [SHXEY67QWKP9K]  [1431766104]  587  \n",
       "13  50            [SHXEY67QWKP9K]  [1431766104]  587  "
      ]
     },
     "execution_count": 54,
     "metadata": {},
     "output_type": "execute_result"
    }
   ],
   "source": [
    "cities.head(14)"
   ]
  },
  {
   "cell_type": "code",
   "execution_count": 55,
   "metadata": {
    "collapsed": true
   },
   "outputs": [],
   "source": [
    "\n",
    "# def map_user_country(user):\n",
    "#     return  user[0][0]['country']\n",
    "# countries = []\n",
    "# countries = cities.apply(lambda x: map_user_country(x[colNames[1]]), axis=1)\n",
    "user_country_map = cities.loc[:, 'country']"
   ]
  },
  {
   "cell_type": "code",
   "execution_count": 56,
   "metadata": {},
   "outputs": [
    {
     "data": {
      "text/plain": [
       "0    UK\n",
       "1    UK\n",
       "2    DE\n",
       "3    DE\n",
       "4    DE\n",
       "5    UK\n",
       "6    IT\n",
       "7    UK\n",
       "8    UK\n",
       "9    ES\n",
       "Name: country, dtype: object"
      ]
     },
     "execution_count": 56,
     "metadata": {},
     "output_type": "execute_result"
    }
   ],
   "source": [
    "user_country_map.head(10)\n"
   ]
  },
  {
   "cell_type": "code",
   "execution_count": 57,
   "metadata": {},
   "outputs": [
    {
     "data": {
      "text/plain": [
       "pandas.core.series.Series"
      ]
     },
     "execution_count": 57,
     "metadata": {},
     "output_type": "execute_result"
    }
   ],
   "source": [
    "type(user_country_map)"
   ]
  },
  {
   "cell_type": "code",
   "execution_count": 58,
   "metadata": {
    "collapsed": true
   },
   "outputs": [],
   "source": [
    "user_country_map = user_country_map.tolist()"
   ]
  },
  {
   "cell_type": "code",
   "execution_count": 59,
   "metadata": {},
   "outputs": [
    {
     "data": {
      "text/plain": [
       "['UK', 'UK', 'DE', 'DE', 'DE', 'UK', 'IT', 'UK', 'UK', 'ES', '', '', '']"
      ]
     },
     "execution_count": 59,
     "metadata": {},
     "output_type": "execute_result"
    }
   ],
   "source": [
    "user_country_map[:13]"
   ]
  },
  {
   "cell_type": "code",
   "execution_count": 60,
   "metadata": {
    "collapsed": true
   },
   "outputs": [],
   "source": [
    "from matplotlib import colors as colors"
   ]
  },
  {
   "cell_type": "code",
   "execution_count": 61,
   "metadata": {
    "collapsed": true
   },
   "outputs": [],
   "source": [
    "# G=nx.from_pandas_edgelist(cities, source='country', target='user')\n",
    "# pos = nx.spring_layout(G, iterations=10)"
   ]
  },
  {
   "cell_type": "code",
   "execution_count": 62,
   "metadata": {
    "collapsed": true
   },
   "outputs": [],
   "source": [
    "# draw_communities(G, user_country_map, pos)"
   ]
  },
  {
   "cell_type": "code",
   "execution_count": 63,
   "metadata": {},
   "outputs": [
    {
     "data": {
      "text/html": [
       "<div>\n",
       "<style>\n",
       "    .dataframe thead tr:only-child th {\n",
       "        text-align: right;\n",
       "    }\n",
       "\n",
       "    .dataframe thead th {\n",
       "        text-align: left;\n",
       "    }\n",
       "\n",
       "    .dataframe tbody tr th {\n",
       "        vertical-align: top;\n",
       "    }\n",
       "</style>\n",
       "<table border=\"1\" class=\"dataframe\">\n",
       "  <thead>\n",
       "    <tr style=\"text-align: right;\">\n",
       "      <th></th>\n",
       "      <th>city</th>\n",
       "      <th>country</th>\n",
       "      <th>session_id</th>\n",
       "      <th>timestamp</th>\n",
       "      <th>user</th>\n",
       "    </tr>\n",
       "  </thead>\n",
       "  <tbody>\n",
       "    <tr>\n",
       "      <th>0</th>\n",
       "      <td>50</td>\n",
       "      <td>UK</td>\n",
       "      <td>[X061RFWB06K9V]</td>\n",
       "      <td>[1442503708]</td>\n",
       "      <td>2024</td>\n",
       "    </tr>\n",
       "    <tr>\n",
       "      <th>1</th>\n",
       "      <td>51</td>\n",
       "      <td>UK</td>\n",
       "      <td>[X061RFWB06K9V]</td>\n",
       "      <td>[1442503708]</td>\n",
       "      <td>2024</td>\n",
       "    </tr>\n",
       "    <tr>\n",
       "      <th>2</th>\n",
       "      <td>50</td>\n",
       "      <td>DE</td>\n",
       "      <td>[5AZ2X2A9BHH5U]</td>\n",
       "      <td>[1441353991]</td>\n",
       "      <td>2853</td>\n",
       "    </tr>\n",
       "    <tr>\n",
       "      <th>3</th>\n",
       "      <td>32</td>\n",
       "      <td>DE</td>\n",
       "      <td>[5AZ2X2A9BHH5U]</td>\n",
       "      <td>[1441353991]</td>\n",
       "      <td>2853</td>\n",
       "    </tr>\n",
       "    <tr>\n",
       "      <th>4</th>\n",
       "      <td>58</td>\n",
       "      <td>DE</td>\n",
       "      <td>[5AZ2X2A9BHH5U]</td>\n",
       "      <td>[1441353991]</td>\n",
       "      <td>2853</td>\n",
       "    </tr>\n",
       "    <tr>\n",
       "      <th>5</th>\n",
       "      <td>70</td>\n",
       "      <td>UK</td>\n",
       "      <td>[SHTB4IYAX4PX6]</td>\n",
       "      <td>[1440843490]</td>\n",
       "      <td>10958</td>\n",
       "    </tr>\n",
       "    <tr>\n",
       "      <th>6</th>\n",
       "      <td>20</td>\n",
       "      <td>IT</td>\n",
       "      <td>[JBRB8MZGTX3M4]</td>\n",
       "      <td>[1427268063]</td>\n",
       "      <td>7693</td>\n",
       "    </tr>\n",
       "    <tr>\n",
       "      <th>7</th>\n",
       "      <td>59</td>\n",
       "      <td>UK</td>\n",
       "      <td>[YJCMPURC2FL9C]</td>\n",
       "      <td>[1430559067]</td>\n",
       "      <td>7506</td>\n",
       "    </tr>\n",
       "    <tr>\n",
       "      <th>8</th>\n",
       "      <td>29</td>\n",
       "      <td>UK</td>\n",
       "      <td>[YJCMPURC2FL9C]</td>\n",
       "      <td>[1430559067]</td>\n",
       "      <td>7506</td>\n",
       "    </tr>\n",
       "    <tr>\n",
       "      <th>9</th>\n",
       "      <td>71</td>\n",
       "      <td>ES</td>\n",
       "      <td>[LKOKP80QD6BEO]</td>\n",
       "      <td>[1434199991]</td>\n",
       "      <td>3743</td>\n",
       "    </tr>\n",
       "  </tbody>\n",
       "</table>\n",
       "</div>"
      ],
      "text/plain": [
       "   city country       session_id     timestamp   user\n",
       "0  50    UK      [X061RFWB06K9V]  [1442503708]  2024 \n",
       "1  51    UK      [X061RFWB06K9V]  [1442503708]  2024 \n",
       "2  50    DE      [5AZ2X2A9BHH5U]  [1441353991]  2853 \n",
       "3  32    DE      [5AZ2X2A9BHH5U]  [1441353991]  2853 \n",
       "4  58    DE      [5AZ2X2A9BHH5U]  [1441353991]  2853 \n",
       "5  70    UK      [SHTB4IYAX4PX6]  [1440843490]  10958\n",
       "6  20    IT      [JBRB8MZGTX3M4]  [1427268063]  7693 \n",
       "7  59    UK      [YJCMPURC2FL9C]  [1430559067]  7506 \n",
       "8  29    UK      [YJCMPURC2FL9C]  [1430559067]  7506 \n",
       "9  71    ES      [LKOKP80QD6BEO]  [1434199991]  3743 "
      ]
     },
     "execution_count": 63,
     "metadata": {},
     "output_type": "execute_result"
    }
   ],
   "source": [
    "cities.head(10)"
   ]
  },
  {
   "cell_type": "code",
   "execution_count": 64,
   "metadata": {
    "collapsed": true
   },
   "outputs": [],
   "source": [
    "# cities['country'] = cities['country'].astype('category')\n",
    "# cities[\"country\"] = cities[\"country\"].cat.codes"
   ]
  },
  {
   "cell_type": "code",
   "execution_count": 65,
   "metadata": {
    "collapsed": true
   },
   "outputs": [],
   "source": [
    "from sklearn.neighbors import KNeighborsClassifier\n",
    "# neigh = KNeighborsClassifier(n_neighbors=7)\n",
    "# neigh.fit(cities.iloc[:,0:4], cities['country'])"
   ]
  },
  {
   "cell_type": "code",
   "execution_count": 66,
   "metadata": {},
   "outputs": [
    {
     "data": {
      "text/html": [
       "<div>\n",
       "<style>\n",
       "    .dataframe thead tr:only-child th {\n",
       "        text-align: right;\n",
       "    }\n",
       "\n",
       "    .dataframe thead th {\n",
       "        text-align: left;\n",
       "    }\n",
       "\n",
       "    .dataframe tbody tr th {\n",
       "        vertical-align: top;\n",
       "    }\n",
       "</style>\n",
       "<table border=\"1\" class=\"dataframe\">\n",
       "  <thead>\n",
       "    <tr style=\"text-align: right;\">\n",
       "      <th></th>\n",
       "      <th>city</th>\n",
       "      <th>country</th>\n",
       "      <th>session_id</th>\n",
       "      <th>timestamp</th>\n",
       "      <th>user</th>\n",
       "    </tr>\n",
       "  </thead>\n",
       "  <tbody>\n",
       "    <tr>\n",
       "      <th>0</th>\n",
       "      <td>50</td>\n",
       "      <td>UK</td>\n",
       "      <td>[X061RFWB06K9V]</td>\n",
       "      <td>[1442503708]</td>\n",
       "      <td>2024</td>\n",
       "    </tr>\n",
       "    <tr>\n",
       "      <th>1</th>\n",
       "      <td>51</td>\n",
       "      <td>UK</td>\n",
       "      <td>[X061RFWB06K9V]</td>\n",
       "      <td>[1442503708]</td>\n",
       "      <td>2024</td>\n",
       "    </tr>\n",
       "    <tr>\n",
       "      <th>2</th>\n",
       "      <td>50</td>\n",
       "      <td>DE</td>\n",
       "      <td>[5AZ2X2A9BHH5U]</td>\n",
       "      <td>[1441353991]</td>\n",
       "      <td>2853</td>\n",
       "    </tr>\n",
       "  </tbody>\n",
       "</table>\n",
       "</div>"
      ],
      "text/plain": [
       "   city country       session_id     timestamp  user\n",
       "0  50    UK      [X061RFWB06K9V]  [1442503708]  2024\n",
       "1  51    UK      [X061RFWB06K9V]  [1442503708]  2024\n",
       "2  50    DE      [5AZ2X2A9BHH5U]  [1441353991]  2853"
      ]
     },
     "execution_count": 66,
     "metadata": {},
     "output_type": "execute_result"
    }
   ],
   "source": [
    "cities.head(3)"
   ]
  },
  {
   "cell_type": "code",
   "execution_count": 67,
   "metadata": {
    "collapsed": true
   },
   "outputs": [],
   "source": [
    "\n",
    "# X = cities.loc[:, ['city','user']]\n",
    "# Y = cities.loc[:, 'country']\n",
    "\n",
    "X = np.matrix(cities.loc[:, ['city','user']])\n",
    "y = np.array(cities.loc[:, 'country'])\n",
    "\n",
    "# h = .02 # step size in the mesh\n",
    "\n",
    "# knn=KNeighborsClassifier()\n",
    "\n",
    "# # we create an instance of Neighbours Classifier and fit the data.\n",
    "# knn.fit(X, Y)\n",
    "\n",
    "# # Plot the decision boundary. For that, we will asign a color to each\n",
    "# # point in the mesh [x_min, m_max]x[y_min, y_max].\n",
    "# x_min, x_max = X[:,0].min() - .5, X[:,0].max() + .5\n",
    "# y_min, y_max = X[:,1].min() - .5, X[:,1].max() + .5\n",
    "# xx, yy = np.meshgrid(np.arange(x_min, x_max, h), np.arange(y_min, y_max, h))\n",
    "# Z = knn.predict(np.c_[xx.ravel(), yy.ravel()])\n",
    "\n",
    "# # Put the result into a color plot\n",
    "# Z = Z.reshape(xx.shape)\n",
    "# pl.figure(1, figsize=(4, 3))\n",
    "# pl.set_cmap(pl.cm.Paired)\n",
    "# pl.pcolormesh(xx, yy, Z)\n",
    "\n",
    "# # Plot also the training points\n",
    "# pl.scatter(X[:,0], X[:,1],c=Y )\n",
    "# pl.xlabel('User')\n",
    "# pl.ylabel('Cities')\n",
    "\n",
    "# pl.xlim(xx.min(), xx.max())\n",
    "# pl.ylim(yy.min(), yy.max())\n",
    "# pl.xticks(())\n",
    "# pl.yticks(())\n",
    "\n",
    "# pl.show()"
   ]
  },
  {
   "cell_type": "code",
   "execution_count": 68,
   "metadata": {
    "collapsed": true
   },
   "outputs": [],
   "source": [
    "from sklearn.model_selection import train_test_split"
   ]
  },
  {
   "cell_type": "code",
   "execution_count": 69,
   "metadata": {
    "collapsed": true
   },
   "outputs": [],
   "source": [
    "cities_to_train = cities[cities['country'] != '']\n",
    "predict_data = cities[cities['country'] == '']"
   ]
  },
  {
   "cell_type": "code",
   "execution_count": 70,
   "metadata": {
    "collapsed": true
   },
   "outputs": [],
   "source": [
    "X_train = np.matrix(cities_to_train.loc[:, ['city','user']])\n",
    "y_train = np.array(cities_to_train.loc[:, 'country'])"
   ]
  },
  {
   "cell_type": "code",
   "execution_count": 71,
   "metadata": {},
   "outputs": [
    {
     "data": {
      "text/plain": [
       "matrix([[   50,  2024],\n",
       "        [   51,  2024],\n",
       "        [   50,  2853],\n",
       "        [   32,  2853],\n",
       "        [   58,  2853],\n",
       "        [   70, 10958],\n",
       "        [   20,  7693],\n",
       "        [   59,  7506],\n",
       "        [   29,  7506],\n",
       "        [   71,  3743]])"
      ]
     },
     "execution_count": 71,
     "metadata": {},
     "output_type": "execute_result"
    }
   ],
   "source": [
    "X_train[:10]"
   ]
  },
  {
   "cell_type": "code",
   "execution_count": 72,
   "metadata": {
    "collapsed": true
   },
   "outputs": [],
   "source": [
    "# !pip install mlxtend"
   ]
  },
  {
   "cell_type": "code",
   "execution_count": 73,
   "metadata": {
    "collapsed": true
   },
   "outputs": [],
   "source": [
    "from sklearn import svm\n",
    "from mlxtend.plotting import plot_decision_regions\n",
    "from sklearn.model_selection import train_test_split\n",
    "from sklearn.preprocessing import StandardScaler"
   ]
  },
  {
   "cell_type": "code",
   "execution_count": 74,
   "metadata": {},
   "outputs": [
    {
     "data": {
      "text/plain": [
       "SVC(C=1.0, cache_size=200, class_weight=None, coef0=0.0,\n",
       "  decision_function_shape='ovr', degree=3, gamma='auto', kernel='rbf',\n",
       "  max_iter=-1, probability=False, random_state=None, shrinking=True,\n",
       "  tol=0.001, verbose=False)"
      ]
     },
     "execution_count": 74,
     "metadata": {},
     "output_type": "execute_result"
    }
   ],
   "source": [
    "# Fit Support Vector Machine Classifier\n",
    "cities_to_train_sample = cities_to_train\n",
    "X = cities_to_train_sample[['city', 'user']]\n",
    "y = cities_to_train_sample['country']\n",
    "\n",
    "np.save('X', X)\n",
    "np.save('y', y)\n",
    "X = StandardScaler().fit_transform(X)\n",
    "X_train, X_test, y_train, y_test = train_test_split(X, y, test_size=.2, random_state=42)\n",
    "\n",
    "clf = svm.SVC(decision_function_shape='ovr')\n",
    "clf.fit(X, y) \n",
    "\n",
    "# # Plot Decision Region using mlxtend's plotting function\n",
    "# plot_decision_regions(X=X.values, \n",
    "#                       y=y.values,\n",
    "#                       clf=clf, \n",
    "#                       legend=2)\n",
    "\n",
    "# # Update plot object with X/Y axis labels and Figure Title\n",
    "# plt.xlabel(X.columns[1], size=14)\n",
    "# plt.ylabel(X.columns[0], size=14)\n",
    "# plt.title('SVM Decision Region Boundary', size=16)"
   ]
  },
  {
   "cell_type": "code",
   "execution_count": 75,
   "metadata": {
    "collapsed": true
   },
   "outputs": [],
   "source": [
    "X_predict = np.matrix(predict_data.loc[:, ['city','user']]) \n",
    "np.save('X_predict', X_predict)\n",
    "X_predict = StandardScaler().fit_transform(X_predict.astype(float))\n",
    "Y_predict = clf.predict(X_predict)"
   ]
  },
  {
   "cell_type": "code",
   "execution_count": 76,
   "metadata": {},
   "outputs": [
    {
     "data": {
      "text/plain": [
       "array(['DE', 'ES', 'FR', 'IT', 'UK', 'US'], dtype=object)"
      ]
     },
     "execution_count": 76,
     "metadata": {},
     "output_type": "execute_result"
    }
   ],
   "source": [
    "clf.classes_"
   ]
  },
  {
   "cell_type": "code",
   "execution_count": 77,
   "metadata": {},
   "outputs": [
    {
     "data": {
      "text/plain": [
       "0.23248934746628164"
      ]
     },
     "execution_count": 77,
     "metadata": {},
     "output_type": "execute_result"
    }
   ],
   "source": [
    "clf.score(X, y)"
   ]
  },
  {
   "cell_type": "code",
   "execution_count": 78,
   "metadata": {},
   "outputs": [
    {
     "name": "stdout",
     "output_type": "stream",
     "text": [
      "[['DE' 1061]\n",
      " ['UK' 782]\n",
      " ['US' 2776]]\n"
     ]
    }
   ],
   "source": [
    "unique, counts = np.unique(Y_predict, return_counts=True)\n",
    "print (np.asarray((unique, counts)).T)"
   ]
  },
  {
   "cell_type": "markdown",
   "metadata": {
    "collapsed": true
   },
   "source": [
    "### Create train/test multi-label sets, fit, and predict"
   ]
  },
  {
   "cell_type": "code",
   "execution_count": 79,
   "metadata": {
    "collapsed": true
   },
   "outputs": [],
   "source": [
    "from sklearn.multiclass import OneVsRestClassifier\n",
    "\n",
    "cities_to_train_sample = cities_to_train\n",
    "X = cities_to_train_sample[['city', 'user']]\n",
    "y = cities_to_train_sample['country']\n",
    "random_state = np.random.RandomState(0)\n",
    "\n",
    "X_train, X_test, y_train, y_test = train_test_split(X, y, test_size=.2, random_state=random_state)\n",
    "\n",
    "clf = OneVsRestClassifier(svm.SVC(decision_function_shape='ovr')).fit(X_train, y_train)"
   ]
  },
  {
   "cell_type": "code",
   "execution_count": 80,
   "metadata": {},
   "outputs": [
    {
     "data": {
      "text/plain": [
       "array(['DE', 'ES', 'FR', 'IT', 'UK', 'US'],\n",
       "      dtype='<U2')"
      ]
     },
     "execution_count": 80,
     "metadata": {},
     "output_type": "execute_result"
    }
   ],
   "source": [
    "clf.classes_"
   ]
  },
  {
   "cell_type": "code",
   "execution_count": 81,
   "metadata": {
    "collapsed": true
   },
   "outputs": [],
   "source": [
    "y_score = clf.decision_function(X_test)"
   ]
  },
  {
   "cell_type": "code",
   "execution_count": 82,
   "metadata": {
    "collapsed": true
   },
   "outputs": [],
   "source": [
    "y_test_predicted = clf.predict(X_test)"
   ]
  },
  {
   "cell_type": "code",
   "execution_count": 83,
   "metadata": {},
   "outputs": [
    {
     "data": {
      "text/plain": [
       "array(['DE', 'US', 'DE', 'IT', 'US', 'US', 'US', 'US', 'ES', 'FR'],\n",
       "      dtype='<U2')"
      ]
     },
     "execution_count": 83,
     "metadata": {},
     "output_type": "execute_result"
    }
   ],
   "source": [
    "y_test_predicted[:10]"
   ]
  },
  {
   "cell_type": "code",
   "execution_count": 84,
   "metadata": {
    "collapsed": true
   },
   "outputs": [],
   "source": [
    "# y_test_array = list(zip(y_test,y_test.index))"
   ]
  },
  {
   "cell_type": "code",
   "execution_count": 85,
   "metadata": {},
   "outputs": [
    {
     "name": "stdout",
     "output_type": "stream",
     "text": [
      "Accuracy: 0.450528169014\n"
     ]
    }
   ],
   "source": [
    " print (\"Accuracy: %s\" % clf.score(X_test, y_test))"
   ]
  },
  {
   "cell_type": "code",
   "execution_count": 86,
   "metadata": {},
   "outputs": [
    {
     "data": {
      "text/plain": [
       "pandas.core.series.Series"
      ]
     },
     "execution_count": 86,
     "metadata": {},
     "output_type": "execute_result"
    }
   ],
   "source": [
    "type(y_test)"
   ]
  },
  {
   "cell_type": "code",
   "execution_count": 87,
   "metadata": {},
   "outputs": [
    {
     "data": {
      "text/plain": [
       "19989    DE\n",
       "11374    FR\n",
       "Name: country, dtype: object"
      ]
     },
     "execution_count": 87,
     "metadata": {},
     "output_type": "execute_result"
    }
   ],
   "source": [
    "y_test.head(2)"
   ]
  },
  {
   "cell_type": "code",
   "execution_count": 88,
   "metadata": {
    "collapsed": true
   },
   "outputs": [],
   "source": [
    "# y_true = y_test.as_matrix()\n",
    "y_true = y_test.values"
   ]
  },
  {
   "cell_type": "code",
   "execution_count": 89,
   "metadata": {},
   "outputs": [
    {
     "data": {
      "text/plain": [
       "(5680,)"
      ]
     },
     "execution_count": 89,
     "metadata": {},
     "output_type": "execute_result"
    }
   ],
   "source": [
    "y_true.shape"
   ]
  },
  {
   "cell_type": "code",
   "execution_count": 90,
   "metadata": {},
   "outputs": [
    {
     "data": {
      "text/plain": [
       "(5680, 6)"
      ]
     },
     "execution_count": 90,
     "metadata": {},
     "output_type": "execute_result"
    }
   ],
   "source": [
    "y_score.shape"
   ]
  },
  {
   "cell_type": "code",
   "execution_count": 91,
   "metadata": {},
   "outputs": [
    {
     "data": {
      "text/plain": [
       "array(['DE', 'US', 'DE', 'IT', 'US', 'US', 'US', 'US', 'ES', 'FR', 'US',\n",
       "       'US', 'IT', 'US', 'US', 'US', 'DE', 'US', 'US', 'DE'],\n",
       "      dtype='<U2')"
      ]
     },
     "execution_count": 91,
     "metadata": {},
     "output_type": "execute_result"
    }
   ],
   "source": [
    "y_test_predicted[:20]"
   ]
  },
  {
   "cell_type": "code",
   "execution_count": 92,
   "metadata": {},
   "outputs": [
    {
     "data": {
      "text/plain": [
       "array(['DE', 'FR', 'DE', 'IT', 'IT', 'US', 'US', 'ES', 'ES', 'FR', 'UK',\n",
       "       'DE', 'IT', 'FR', 'FR', 'IT', 'DE', 'US', 'IT', 'DE'], dtype=object)"
      ]
     },
     "execution_count": 92,
     "metadata": {},
     "output_type": "execute_result"
    }
   ],
   "source": [
    "y_true[: 20]"
   ]
  },
  {
   "cell_type": "code",
   "execution_count": 93,
   "metadata": {
    "collapsed": true
   },
   "outputs": [],
   "source": [
    "accuracy = (y_test_predicted == y_true).mean()"
   ]
  },
  {
   "cell_type": "code",
   "execution_count": 94,
   "metadata": {},
   "outputs": [
    {
     "data": {
      "text/plain": [
       "0.45052816901408449"
      ]
     },
     "execution_count": 94,
     "metadata": {},
     "output_type": "execute_result"
    }
   ],
   "source": [
    "accuracy"
   ]
  },
  {
   "cell_type": "markdown",
   "metadata": {},
   "source": [
    "### Present results"
   ]
  },
  {
   "cell_type": "markdown",
   "metadata": {},
   "source": [
    "### The average precision score in multi-label settings\n"
   ]
  },
  {
   "cell_type": "code",
   "execution_count": 95,
   "metadata": {},
   "outputs": [
    {
     "name": "stdout",
     "output_type": "stream",
     "text": [
      "i: 0  len1:  5680\n",
      "Precision on test set: 0.0\n",
      "Recal on test set: 0.0\n",
      "i: 0  len1:  5680\n",
      "F1 score on test set: 0\n"
     ]
    },
    {
     "name": "stderr",
     "output_type": "stream",
     "text": [
      "/anaconda3/envs/tfdeeplearning/lib/python3.5/site-packages/ipykernel_launcher.py:5: DeprecationWarning: elementwise == comparison failed; this will raise an error in the future.\n",
      "  \"\"\"\n",
      "/anaconda3/envs/tfdeeplearning/lib/python3.5/site-packages/ipykernel_launcher.py:15: DeprecationWarning: elementwise == comparison failed; this will raise an error in the future.\n",
      "  from ipykernel import kernelapp as app\n"
     ]
    }
   ],
   "source": [
    "from sklearn.metrics import precision_recall_curve\n",
    "from sklearn.metrics import average_precision_score\n",
    "\n",
    "def precision(y_true, y_pred):\n",
    "    i = np.sum(y_true == y_pred)\n",
    "    len1 = len(y_pred)\n",
    "    print('i:', i, ' len1: ', len1)\n",
    "    if len1 == 0:\n",
    "        return 0\n",
    "    else:\n",
    "        return i / len1\n",
    "\n",
    "\n",
    "def recall(y_true, y_pred):\n",
    "    i = np.sum(y_true == y_pred)\n",
    "    return i / len(y_true)\n",
    "\n",
    "\n",
    "def f1_score(y_true, y_pred):\n",
    "    p = precision(y_true, y_pred)\n",
    "    r = recall(y_true, y_pred)\n",
    "    if p + r == 0:\n",
    "        return 0\n",
    "    else:\n",
    "        return 2 * (p * r) / (p + r)\n",
    "\n",
    "print('Precision on test set:', precision(y_true, y_score))\n",
    "print('Recal on test set:', recall(y_true, y_score))\n",
    "print('F1 score on test set:', f1_score(y_true, y_score))\n",
    "\n",
    "    \n",
    "# # For each class\n",
    "# precision = dict()\n",
    "# recall = dict()\n",
    "# average_precision = dict()\n",
    "# for i in range(len(clf.classes_)):\n",
    "#     precision[i], recall[i], _ = precision_recall_curve(y_true[i],y_score[i])\n",
    "#     average_precision[i] = average_precision_score(y_true[i], y_score[i])\n",
    "\n",
    "# # A \"micro-average\": quantifying score on all classes jointly\n",
    "# precision[\"micro\"], recall[\"micro\"], _ = precision_recall_curve(y_true.ravel(),\n",
    "#     y_score.ravel())\n",
    "# average_precision[\"micro\"] = average_precision_score(y_true, y_score,\n",
    "#                                                      average=\"micro\")\n",
    "# print('Average precision score, micro-averaged over all classes: {0:0.2f}'\n",
    "#       .format(average_precision[\"micro\"]))"
   ]
  },
  {
   "cell_type": "code",
   "execution_count": 96,
   "metadata": {},
   "outputs": [
    {
     "data": {
      "text/html": [
       "<div>\n",
       "<style>\n",
       "    .dataframe thead tr:only-child th {\n",
       "        text-align: right;\n",
       "    }\n",
       "\n",
       "    .dataframe thead th {\n",
       "        text-align: left;\n",
       "    }\n",
       "\n",
       "    .dataframe tbody tr th {\n",
       "        vertical-align: top;\n",
       "    }\n",
       "</style>\n",
       "<table border=\"1\" class=\"dataframe\">\n",
       "  <thead>\n",
       "    <tr style=\"text-align: right;\">\n",
       "      <th></th>\n",
       "      <th>city</th>\n",
       "      <th>country</th>\n",
       "      <th>session_id</th>\n",
       "      <th>timestamp</th>\n",
       "      <th>user</th>\n",
       "    </tr>\n",
       "  </thead>\n",
       "  <tbody>\n",
       "    <tr>\n",
       "      <th>10</th>\n",
       "      <td>47</td>\n",
       "      <td></td>\n",
       "      <td>[YOVUIM79SGS5Y]</td>\n",
       "      <td>[1443171887]</td>\n",
       "      <td>8831</td>\n",
       "    </tr>\n",
       "    <tr>\n",
       "      <th>11</th>\n",
       "      <td>13</td>\n",
       "      <td></td>\n",
       "      <td>[YOVUIM79SGS5Y]</td>\n",
       "      <td>[1443171887]</td>\n",
       "      <td>8831</td>\n",
       "    </tr>\n",
       "    <tr>\n",
       "      <th>12</th>\n",
       "      <td>9</td>\n",
       "      <td></td>\n",
       "      <td>[SHXEY67QWKP9K]</td>\n",
       "      <td>[1431766104]</td>\n",
       "      <td>587</td>\n",
       "    </tr>\n",
       "    <tr>\n",
       "      <th>13</th>\n",
       "      <td>50</td>\n",
       "      <td></td>\n",
       "      <td>[SHXEY67QWKP9K]</td>\n",
       "      <td>[1431766104]</td>\n",
       "      <td>587</td>\n",
       "    </tr>\n",
       "    <tr>\n",
       "      <th>16</th>\n",
       "      <td>50</td>\n",
       "      <td></td>\n",
       "      <td>[UY49RTVRX3GL7]</td>\n",
       "      <td>[1439104667]</td>\n",
       "      <td>5995</td>\n",
       "    </tr>\n",
       "  </tbody>\n",
       "</table>\n",
       "</div>"
      ],
      "text/plain": [
       "    city country       session_id     timestamp  user\n",
       "10  47            [YOVUIM79SGS5Y]  [1443171887]  8831\n",
       "11  13            [YOVUIM79SGS5Y]  [1443171887]  8831\n",
       "12  9             [SHXEY67QWKP9K]  [1431766104]  587 \n",
       "13  50            [SHXEY67QWKP9K]  [1431766104]  587 \n",
       "16  50            [UY49RTVRX3GL7]  [1439104667]  5995"
      ]
     },
     "execution_count": 96,
     "metadata": {},
     "output_type": "execute_result"
    }
   ],
   "source": [
    "predict_data.head(5)"
   ]
  },
  {
   "cell_type": "code",
   "execution_count": 97,
   "metadata": {
    "collapsed": true
   },
   "outputs": [],
   "source": [
    "# X_train"
   ]
  },
  {
   "cell_type": "code",
   "execution_count": 98,
   "metadata": {
    "collapsed": true
   },
   "outputs": [],
   "source": [
    "X_predict = np.matrix(predict_data.loc[:, ['city','user']]) \n"
   ]
  },
  {
   "cell_type": "code",
   "execution_count": 99,
   "metadata": {},
   "outputs": [
    {
     "data": {
      "text/plain": [
       "(4619, 2)"
      ]
     },
     "execution_count": 99,
     "metadata": {},
     "output_type": "execute_result"
    }
   ],
   "source": [
    "X_predict.shape"
   ]
  },
  {
   "cell_type": "code",
   "execution_count": 100,
   "metadata": {
    "collapsed": true
   },
   "outputs": [],
   "source": [
    "Y_predict = clf.predict(X_predict)"
   ]
  },
  {
   "cell_type": "code",
   "execution_count": 101,
   "metadata": {},
   "outputs": [
    {
     "data": {
      "text/plain": [
       "array(['US', 'US', 'ES', ..., 'US', 'IT', 'US'],\n",
       "      dtype='<U2')"
      ]
     },
     "execution_count": 101,
     "metadata": {},
     "output_type": "execute_result"
    }
   ],
   "source": [
    "Y_predict"
   ]
  },
  {
   "cell_type": "code",
   "execution_count": 102,
   "metadata": {},
   "outputs": [
    {
     "data": {
      "text/plain": [
       "(4619,)"
      ]
     },
     "execution_count": 102,
     "metadata": {},
     "output_type": "execute_result"
    }
   ],
   "source": [
    "Y_predict.shape"
   ]
  },
  {
   "cell_type": "code",
   "execution_count": 103,
   "metadata": {},
   "outputs": [
    {
     "name": "stdout",
     "output_type": "stream",
     "text": [
      "[[-0.75330407 -0.87939814 -0.85932608 -0.72970072 -0.75504457 -0.72090365]\n",
      " [-0.71258827 -0.85949568 -0.83428573 -0.86683278 -0.71469056 -0.68522897]\n",
      " [-0.75146561 -0.72416039 -0.85667291 -0.88482557 -0.75331257 -0.72776689]\n",
      " ..., \n",
      " [-0.71258228 -0.85949652 -0.83428672 -0.86683358 -0.71469228 -0.68523083]\n",
      " [-0.88685309 -0.94486601 -0.93452387 -0.26030211 -0.88764823 -0.87619579]\n",
      " [-0.71770345 -0.86200019 -0.83725725 -0.86158799 -0.70551461 -0.69083112]]\n"
     ]
    }
   ],
   "source": [
    "print(clf.decision_function(X_predict))"
   ]
  },
  {
   "cell_type": "code",
   "execution_count": 104,
   "metadata": {},
   "outputs": [
    {
     "data": {
      "text/plain": [
       "array(['DE', 'ES', 'FR', 'IT', 'UK', 'US'],\n",
       "      dtype='<U2')"
      ]
     },
     "execution_count": 104,
     "metadata": {},
     "output_type": "execute_result"
    }
   ],
   "source": [
    "np.unique(Y_predict)"
   ]
  },
  {
   "cell_type": "code",
   "execution_count": 105,
   "metadata": {},
   "outputs": [
    {
     "name": "stdout",
     "output_type": "stream",
     "text": [
      "[['DE' '445']\n",
      " ['ES' '154']\n",
      " ['FR' '236']\n",
      " ['IT' '123']\n",
      " ['UK' '382']\n",
      " ['US' '3279']]\n"
     ]
    }
   ],
   "source": [
    "unique, counts = np.unique(Y_predict, return_counts=True)\n",
    "\n",
    "print (np.asarray((unique, counts)).T)"
   ]
  },
  {
   "cell_type": "code",
   "execution_count": 106,
   "metadata": {},
   "outputs": [
    {
     "data": {
      "text/plain": [
       "'US'"
      ]
     },
     "execution_count": 106,
     "metadata": {},
     "output_type": "execute_result"
    }
   ],
   "source": [
    "Y_predict[1]"
   ]
  },
  {
   "cell_type": "code",
   "execution_count": 107,
   "metadata": {},
   "outputs": [
    {
     "data": {
      "text/plain": [
       "(28397, 2)"
      ]
     },
     "execution_count": 107,
     "metadata": {},
     "output_type": "execute_result"
    }
   ],
   "source": [
    "X.shape"
   ]
  },
  {
   "cell_type": "code",
   "execution_count": 108,
   "metadata": {
    "collapsed": true
   },
   "outputs": [],
   "source": [
    "\n",
    "from sklearn.model_selection import train_test_split\n",
    "from sklearn.preprocessing import StandardScaler\n",
    "X = StandardScaler().fit_transform(X)\n",
    "X_train, X_test, y_train, y_test = train_test_split(X, y, test_size=.2, random_state=42)\n"
   ]
  },
  {
   "cell_type": "code",
   "execution_count": 109,
   "metadata": {
    "collapsed": true
   },
   "outputs": [],
   "source": [
    "clf_kn = KNeighborsClassifier(7)\n",
    "clf_kn.fit(X_train, y_train)\n",
    "score = clf_kn.score(X_test, y_test)"
   ]
  },
  {
   "cell_type": "code",
   "execution_count": 110,
   "metadata": {},
   "outputs": [
    {
     "data": {
      "text/plain": [
       "0.2272887323943662"
      ]
     },
     "execution_count": 110,
     "metadata": {},
     "output_type": "execute_result"
    }
   ],
   "source": [
    "score"
   ]
  },
  {
   "cell_type": "code",
   "execution_count": 111,
   "metadata": {
    "collapsed": true
   },
   "outputs": [],
   "source": [
    "X_predict = StandardScaler().fit_transform(X_predict.astype(float))"
   ]
  },
  {
   "cell_type": "code",
   "execution_count": 112,
   "metadata": {
    "collapsed": true
   },
   "outputs": [],
   "source": [
    "Y_pred = clf.predict(X_predict)"
   ]
  },
  {
   "cell_type": "code",
   "execution_count": 113,
   "metadata": {},
   "outputs": [
    {
     "name": "stdout",
     "output_type": "stream",
     "text": [
      "[['US' '4619']]\n"
     ]
    }
   ],
   "source": [
    "unique, counts = np.unique(Y_pred, return_counts=True)\n",
    "\n",
    "print (np.asarray((unique, counts)).T)"
   ]
  },
  {
   "cell_type": "code",
   "execution_count": 114,
   "metadata": {},
   "outputs": [
    {
     "data": {
      "text/plain": [
       "4619"
      ]
     },
     "execution_count": 114,
     "metadata": {},
     "output_type": "execute_result"
    }
   ],
   "source": [
    "len(Y_pred)"
   ]
  },
  {
   "cell_type": "code",
   "execution_count": 115,
   "metadata": {},
   "outputs": [
    {
     "data": {
      "image/png": "[encoded data removed]",
      "text/plain": [
       "<matplotlib.figure.Figure at 0x1148ec208>"
      ]
     },
     "metadata": {},
     "output_type": "display_data"
    }
   ],
   "source": [
    "from matplotlib.colors import ListedColormap\n",
    "\n",
    "cm = plt.cm.RdBu\n",
    "cm_bright = ListedColormap(['#FF0000', '#0000FF'])\n",
    "ax = plt.subplot(111)\n",
    "cm_bright = ListedColormap(['#FF0000', '#0000FF'])\n",
    "y_train_colors = plt.cm.Paired(7)  \n",
    "y_test_colors = plt.cm.Paired(range(len(Y_pred)))\n",
    "# Plot also the training points\n",
    "ax.scatter(X_train[:, 0], X_train[:, 1], c=y_train_colors, cmap=cm_bright,\n",
    "           edgecolors='k')\n",
    "# and testing points\n",
    "ax.scatter(X_predict[:, 0], X_predict[:, 1], c=y_test_colors, cmap=cm_bright,\n",
    "           edgecolors='k', alpha=0.2)\n",
    "\n",
    "ax.set_xticks(())\n",
    "ax.set_yticks(())\n",
    "plt.show()"
   ]
  },
  {
   "cell_type": "code",
   "execution_count": 116,
   "metadata": {},
   "outputs": [
    {
     "data": {
      "text/plain": [
       "<matplotlib.collections.PathCollection at 0x1146ba048>"
      ]
     },
     "execution_count": 116,
     "metadata": {},
     "output_type": "execute_result"
    },
    {
     "data": {
      "image/png": "[encoded data removed]",
      "text/plain": [
       "<matplotlib.figure.Figure at 0x1149096d8>"
      ]
     },
     "metadata": {},
     "output_type": "display_data"
    }
   ],
   "source": [
    "y_test_predicted = clf_kn.predict(X_test)\n",
    "plt.scatter(X_test[:, 0], y_test_predicted,  color='red', label='A')\n",
    "plt.scatter(X_test[:, 0], y_test,  color='black', label='B')"
   ]
  },
  {
   "cell_type": "code",
   "execution_count": null,
   "metadata": {
    "collapsed": true
   },
   "outputs": [],
   "source": []
  },
  {
   "cell_type": "markdown",
   "metadata": {},
   "source": [
    "### Number of Unique Users per Session"
   ]
  },
  {
   "cell_type": "code",
   "execution_count": 117,
   "metadata": {},
   "outputs": [
    {
     "data": {
      "image/png": "[encoded data removed]",
      "text/plain": [
       "<matplotlib.figure.Figure at 0x114909588>"
      ]
     },
     "metadata": {},
     "output_type": "display_data"
    }
   ],
   "source": [
    "_ = flattened_data_frame.groupby(\"country\")[\"user\"] \\\n",
    "    .nunique() \\\n",
    "    .sort_values(ascending=False) \\\n",
    "    .plot(kind=\"barh\", figsize=(6,4), title=\"Unique Users Count Per Country\")"
   ]
  },
  {
   "cell_type": "code",
   "execution_count": 118,
   "metadata": {},
   "outputs": [
    {
     "data": {
      "text/plain": [
       "5777"
      ]
     },
     "execution_count": 118,
     "metadata": {},
     "output_type": "execute_result"
    }
   ],
   "source": [
    "flattened_data_frame.groupby(\"country\")[\"user\"].nunique().sum()"
   ]
  },
  {
   "cell_type": "code",
   "execution_count": 119,
   "metadata": {},
   "outputs": [
    {
     "data": {
      "text/html": [
       "<div>\n",
       "<style>\n",
       "    .dataframe thead tr:only-child th {\n",
       "        text-align: right;\n",
       "    }\n",
       "\n",
       "    .dataframe thead th {\n",
       "        text-align: left;\n",
       "    }\n",
       "\n",
       "    .dataframe tbody tr th {\n",
       "        vertical-align: top;\n",
       "    }\n",
       "</style>\n",
       "<table border=\"1\" class=\"dataframe\">\n",
       "  <thead>\n",
       "    <tr style=\"text-align: right;\">\n",
       "      <th></th>\n",
       "      <th>country</th>\n",
       "      <th>cities</th>\n",
       "      <th>user</th>\n",
       "      <th>timestamp</th>\n",
       "      <th>session_id</th>\n",
       "    </tr>\n",
       "  </thead>\n",
       "  <tbody>\n",
       "    <tr>\n",
       "      <th>0</th>\n",
       "      <td>UK</td>\n",
       "      <td>New York NY, Newark NJ</td>\n",
       "      <td>2024</td>\n",
       "      <td>[1442503708]</td>\n",
       "      <td>[X061RFWB06K9V]</td>\n",
       "    </tr>\n",
       "    <tr>\n",
       "      <th>1</th>\n",
       "      <td>DE</td>\n",
       "      <td>New York NY, Jersey City NJ, Philadelphia PA</td>\n",
       "      <td>2853</td>\n",
       "      <td>[1441353991]</td>\n",
       "      <td>[5AZ2X2A9BHH5U]</td>\n",
       "    </tr>\n",
       "    <tr>\n",
       "      <th>2</th>\n",
       "      <td>UK</td>\n",
       "      <td>San Antonio TX</td>\n",
       "      <td>10958</td>\n",
       "      <td>[1440843490]</td>\n",
       "      <td>[SHTB4IYAX4PX6]</td>\n",
       "    </tr>\n",
       "  </tbody>\n",
       "</table>\n",
       "</div>"
      ],
      "text/plain": [
       "  country                                        cities   user     timestamp  \\\n",
       "0  UK      New York NY, Newark NJ                        2024   [1442503708]   \n",
       "1  DE      New York NY, Jersey City NJ, Philadelphia PA  2853   [1441353991]   \n",
       "2  UK      San Antonio TX                                10958  [1440843490]   \n",
       "\n",
       "        session_id  \n",
       "0  [X061RFWB06K9V]  \n",
       "1  [5AZ2X2A9BHH5U]  \n",
       "2  [SHTB4IYAX4PX6]  "
      ]
     },
     "execution_count": 119,
     "metadata": {},
     "output_type": "execute_result"
    }
   ],
   "source": [
    "flattened_data_frame.head(3)"
   ]
  },
  {
   "cell_type": "markdown",
   "metadata": {},
   "source": [
    "###  Try classifier without breaking down city list"
   ]
  },
  {
   "cell_type": "code",
   "execution_count": 120,
   "metadata": {},
   "outputs": [
    {
     "data": {
      "text/plain": [
       "0.23074687590816623"
      ]
     },
     "execution_count": 120,
     "metadata": {},
     "output_type": "execute_result"
    }
   ],
   "source": [
    "\n",
    "flattened_data_frame['cities'] = flattened_data_frame['cities'].astype('category')\n",
    "flattened_data_frame[\"cities\"] = flattened_data_frame[\"cities\"].cat.codes\n",
    "\n",
    "\n",
    "train_data = flattened_data_frame[flattened_data_frame['country'] != '']\n",
    "predict_data_full = flattened_data_frame[flattened_data_frame['country'] == '']\n",
    "\n",
    "X = train_data[['cities', 'user']]\n",
    "y = train_data['country']\n",
    "\n",
    "np.save('X', X)\n",
    "np.save('y', y)\n",
    "X = StandardScaler().fit_transform(X)\n",
    "X_train, X_test, y_train, y_test = train_test_split(X, y, test_size=.2, random_state=42)\n",
    "\n",
    "clf = svm.SVC(decision_function_shape='ovr')\n",
    "clf.fit(X_train, y_train)\n",
    "\n",
    "clf.score(X_test, y_test)\n"
   ]
  },
  {
   "cell_type": "code",
   "execution_count": 121,
   "metadata": {},
   "outputs": [
    {
     "data": {
      "text/plain": [
       "array([[ 0.26617044, -1.09882347],\n",
       "       [ 0.21113776, -0.83930819],\n",
       "       [ 0.86877828,  1.69793112],\n",
       "       ..., \n",
       "       [-1.75903216, -1.35583439],\n",
       "       [-1.84708445, -0.57447112],\n",
       "       [ 1.20998089, -0.98894426]])"
      ]
     },
     "execution_count": 121,
     "metadata": {},
     "output_type": "execute_result"
    }
   ],
   "source": [
    "X"
   ]
  },
  {
   "cell_type": "code",
   "execution_count": 122,
   "metadata": {},
   "outputs": [
    {
     "data": {
      "text/plain": [
       "SVC(C=1.0, cache_size=200, class_weight=None, coef0=0.0,\n",
       "  decision_function_shape='ovr', degree=3, gamma='auto', kernel='rbf',\n",
       "  max_iter=-1, probability=False, random_state=None, shrinking=True,\n",
       "  tol=0.001, verbose=False)"
      ]
     },
     "execution_count": 122,
     "metadata": {},
     "output_type": "execute_result"
    }
   ],
   "source": [
    "clf.fit(X, y)"
   ]
  },
  {
   "cell_type": "code",
   "execution_count": 123,
   "metadata": {},
   "outputs": [
    {
     "name": "stdout",
     "output_type": "stream",
     "text": [
      "[['DE' 545]\n",
      " ['UK' 412]\n",
      " ['US' 1863]]\n"
     ]
    }
   ],
   "source": [
    "X_predict = np.matrix(predict_data_full.loc[:, ['cities','user']]) \n",
    "np.save('X_predict', X_predict)\n",
    "X_predict = StandardScaler().fit_transform(X_predict.astype(float))\n",
    "Y_predict = clf.predict(X_predict)\n",
    "\n",
    "unique, counts = np.unique(Y_predict, return_counts=True)\n",
    "print (np.asarray((unique, counts)).T)"
   ]
  },
  {
   "cell_type": "code",
   "execution_count": 124,
   "metadata": {
    "collapsed": true
   },
   "outputs": [],
   "source": [
    "a =flattened_data_frame[flattened_data_frame['country'] == '']\n",
    "b =flattened_data_frame[flattened_data_frame['country'] != '']"
   ]
  },
  {
   "cell_type": "code",
   "execution_count": 125,
   "metadata": {},
   "outputs": [
    {
     "name": "stdout",
     "output_type": "stream",
     "text": [
      "20022 2820 17202\n"
     ]
    }
   ],
   "source": [
    "print(len(flattened_data_frame), len(a), len(b))"
   ]
  },
  {
   "cell_type": "code",
   "execution_count": 126,
   "metadata": {},
   "outputs": [
    {
     "data": {
      "text/plain": [
       "(3441, 2)"
      ]
     },
     "execution_count": 126,
     "metadata": {},
     "output_type": "execute_result"
    }
   ],
   "source": [
    "X_test.shape"
   ]
  },
  {
   "cell_type": "code",
   "execution_count": 127,
   "metadata": {},
   "outputs": [
    {
     "data": {
      "text/plain": [
       "(3441,)"
      ]
     },
     "execution_count": 127,
     "metadata": {},
     "output_type": "execute_result"
    }
   ],
   "source": [
    "y_test.shape"
   ]
  },
  {
   "cell_type": "code",
   "execution_count": 128,
   "metadata": {
    "collapsed": true
   },
   "outputs": [],
   "source": [
    "predictions = clf.predict(X_test)\n",
    "\n",
    "# fig, ax = plt.subplots()\n",
    "\n",
    "# ax.scatter(X_test, y_test)\n",
    "# ax.scatter(X_test, predictions, edgecolors=(0, 0, 0))\n",
    "# ax.set_xticks(())\n",
    "# ax.set_yticks(())\n",
    "    \n",
    "# # ax.set_xlabel('Measured')\n",
    "# # ax.set_ylabel('Predicted')\n",
    "# plt.show()\n",
    "\n",
    "\n",
    "# plt.plot(X_test, clf.predict(X_test), color='red', linewidth=1)\n",
    "# plt.scatter(X_test[:, 0], predictions,  color='red', label='A')\n",
    "# plt.scatter(X_test[:, 0], y_test,  color='black', label='B')"
   ]
  }
 ],
 "metadata": {
  "kernelspec": {
   "display_name": "Python 3",
   "language": "python",
   "name": "python3"
  },
  "language_info": {
   "codemirror_mode": {
    "name": "ipython",
    "version": 3
   },
   "file_extension": ".py",
   "mimetype": "text/x-python",
   "name": "python",
   "nbconvert_exporter": "python",
   "pygments_lexer": "ipython3",
   "version": "3.5.4"
  }
 },
 "nbformat": 4,
 "nbformat_minor": 2
}
