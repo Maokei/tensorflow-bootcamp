{
 "cells": [
  {
   "cell_type": "markdown",
   "metadata": {},
   "source": [
    "## Data analysis\n",
    "### For each city, find the most likely city to be also searched for within the same session"
   ]
  },
  {
   "cell_type": "code",
   "execution_count": 1,
   "metadata": {
    "collapsed": true
   },
   "outputs": [],
   "source": [
    "import pandas as pd\n",
    "import matplotlib.pyplot as plt\n",
    "import numpy as np\n",
    "from gensim.similarities.index import AnnoyIndexer\n",
    "from gensim.models import Word2Vec"
   ]
  },
  {
   "cell_type": "markdown",
   "metadata": {},
   "source": [
    "### Load dataframe"
   ]
  },
  {
   "cell_type": "code",
   "execution_count": 2,
   "metadata": {
    "collapsed": true
   },
   "outputs": [],
   "source": [
    "url = 'city_search.json'\n",
    "df = pd.read_json(url, orient='columns')"
   ]
  },
  {
   "cell_type": "code",
   "execution_count": 3,
   "metadata": {},
   "outputs": [
    {
     "name": "stdout",
     "output_type": "stream",
     "text": [
      "[['New York NY, Newark NJ'], ['New York NY, Jersey City NJ, Philadelphia PA'], ['San Antonio TX'], ['Edmonton AB'], ['Phoenix AZ, Houston TX'], ['San Diego CA'], ['Montreal QC, Chicago IL'], ['Calgary AB, New York NY'], ['Chicago IL, New York NY'], ['New York NY'], ['Los Angeles CA'], ['Phoenix AZ']]\n"
     ]
    }
   ],
   "source": [
    "items = df['cities'].tolist()\n",
    "print(df['cities'].tolist()[:12])"
   ]
  },
  {
   "cell_type": "code",
   "execution_count": 4,
   "metadata": {},
   "outputs": [
    {
     "data": {
      "text/plain": [
       "20022"
      ]
     },
     "execution_count": 4,
     "metadata": {},
     "output_type": "execute_result"
    }
   ],
   "source": [
    "len(df['cities'].tolist())"
   ]
  },
  {
   "cell_type": "markdown",
   "metadata": {},
   "source": [
    "\n",
    "# Create a city recommender"
   ]
  },
  {
   "cell_type": "code",
   "execution_count": 5,
   "metadata": {
    "collapsed": true
   },
   "outputs": [],
   "source": [
    "# we'll use only cities column\n",
    "\n",
    "cities = df['cities'].tolist()\n",
    "\n",
    "# Create index using gensim.similarities.index \n",
    "# Fast Approximate Nearest Neighbor Similarity with Annoy package\n",
    "# gensim.similarities.index.AnnoyIndexer(model=None, num_trees=None)\n",
    "# Allows to use Annoy as indexer for most_similar method from Word2Vec, Doc2Vec, FastText and Word2VecKeyedVectors classes.\n",
    "\n",
    "# Parameters:\t\n",
    "# model (BaseWordEmbeddingsModel, optional) – Model, that will be used as source for index.\n",
    "# num_trees (int, optional) – Number of trees for Annoy indexer.\n",
    "\n",
    "\n",
    "model = Word2Vec(cities, min_count=1, seed=1)\n",
    "indexer = AnnoyIndexer(model, 2)"
   ]
  },
  {
   "cell_type": "markdown",
   "metadata": {},
   "source": [
    "## Find  similar cities"
   ]
  },
  {
   "cell_type": "code",
   "execution_count": 6,
   "metadata": {},
   "outputs": [
    {
     "name": "stdout",
     "output_type": "stream",
     "text": [
      "Simiar to: 'Montreal QC':\n",
      " [('Montreal QC', 1.0), ('Los Angeles CA, Riverside CA, Long Beach CA, San Diego CA, Anaheim CA', 0.39490485191345215), ('Montreal QC, Toronto ON, Oshawa ON', 0.370272159576416), ('Indianapolis IN', 0.36812204122543335)]\n"
     ]
    }
   ],
   "source": [
    " # from model.wv.most_similar docstring:\n",
    "'''\n",
    "    Find the top-N most similar words.\n",
    "    Positive words contribute positively towards the similarity, negative words negatively.\n",
    "\n",
    "    This method computes cosine similarity between a simple mean of the projection\n",
    "    weight vectors of the given words and the vectors for each word in the model.\n",
    "    The method corresponds to the `word-analogy` and `distance` scripts in the original\n",
    "    word2vec implementation.\n",
    "\n",
    "    Parameters\n",
    "    ----------\n",
    "    positive : list of str, optional\n",
    "        List of words that contribute positively.\n",
    "    negative : list of str, optional\n",
    "        List of words that contribute negatively.\n",
    "    topn : int, optional\n",
    "        Number of top-N similar words to return.\n",
    "    restrict_vocab : int, optional\n",
    "        Optional integer which limits the range of vectors which\n",
    "        are searched for most-similar values. For example, restrict_vocab=10000 would\n",
    "        only check the first 10000 word vectors in the vocabulary order. (This may be\n",
    "        meaningful if you've sorted the vocabulary by descending frequency.)\n",
    "\n",
    "    Returns\n",
    "    -------\n",
    "    list of (str, float)\n",
    "    Sequence of (word, similarity).\n",
    "'''\n",
    "\n",
    "print(\"Simiar to: 'Montreal QC':\\n\", model.wv.most_similar('Montreal QC', topn=4, indexer=indexer))"
   ]
  },
  {
   "cell_type": "code",
   "execution_count": 7,
   "metadata": {},
   "outputs": [
    {
     "name": "stdout",
     "output_type": "stream",
     "text": [
      "Simiar to: 'New York NY':\n",
      " [('New York NY', 1.0), ('Dallas TX, Plano TX, Austin TX', 0.37066179513931274), ('Los Angeles CA, Anaheim CA, Riverside CA, Santa Ana CA, Long Beach CA', 0.3703210949897766), ('San Diego CA, Anaheim CA, Santa Ana CA, Long Beach CA', 0.353828489780426)]\n"
     ]
    }
   ],
   "source": [
    "print(\"Simiar to: 'New York NY':\\n\", model.wv.most_similar('New York NY', topn=4, indexer=indexer))\n"
   ]
  },
  {
   "cell_type": "code",
   "execution_count": 8,
   "metadata": {},
   "outputs": [
    {
     "name": "stdout",
     "output_type": "stream",
     "text": [
      "Simiar to: ['Chicago IL', 'New York NY']:\n",
      " [('Chicago IL', 0.6075745224952698), ('New York NY', 0.607574462890625), ('Houston TX, Dallas TX, Oklahoma City OK', 0.3799567222595215), ('Chicago IL, Madison WI', 0.37699031829833984)]\n"
     ]
    }
   ],
   "source": [
    "print(\"Simiar to: ['Chicago IL', 'New York NY']:\\n\", model.wv.most_similar(['Chicago IL', 'New York NY'], topn=4, indexer=indexer))\n"
   ]
  },
  {
   "cell_type": "code",
   "execution_count": 9,
   "metadata": {},
   "outputs": [
    {
     "name": "stdout",
     "output_type": "stream",
     "text": [
      "Simiar to: 'Edmonton AB':\n",
      " [('Edmonton AB', 1.0), ('Vancouver BC, Seattle WA, Calgary AB', 0.3744924068450928), ('San Jose CA, Oakland CA', 0.36664819717407227), ('Vancouver BC, Seattle WA, Portland OR, Victoria BC', 0.3646078109741211)]\n"
     ]
    }
   ],
   "source": [
    "print(\"Simiar to: 'Edmonton AB':\\n\", model.wv.most_similar('Edmonton AB', topn=4, indexer=indexer))"
   ]
  },
  {
   "cell_type": "code",
   "execution_count": 10,
   "metadata": {},
   "outputs": [
    {
     "name": "stdout",
     "output_type": "stream",
     "text": [
      "Simiar to: 'Jacksonville FL':\n",
      " [('Jacksonville FL', 1.0), ('Philadelphia PA, Houston TX, Toronto ON', 0.4091346859931946), ('San Diego CA, Chicago IL, Montreal QC', 0.37535959482192993), ('Detroit MI, Los Angeles CA', 0.3660290241241455)]\n"
     ]
    }
   ],
   "source": [
    "print(\"Simiar to: 'Jacksonville FL':\\n\", model.wv.most_similar('Jacksonville FL', topn=4, indexer=indexer))"
   ]
  },
  {
   "cell_type": "code",
   "execution_count": 11,
   "metadata": {},
   "outputs": [
    {
     "name": "stdout",
     "output_type": "stream",
     "text": [
      "Simiar to: ['Chicago IL', 'Los Angeles CA]:\n",
      " [('Chicago IL', 0.6124488711357117), ('Los Angeles CA', 0.6124488711357117), ('San Diego CA, Long Beach CA, Santa Ana CA, Anaheim CA', 0.39371854066848755), ('Houston TX, Corpus Christi TX, Arlington TX, Oklahoma City OK, Tulsa OK', 0.3811976909637451)]\n"
     ]
    }
   ],
   "source": [
    "print(\"Simiar to: ['Chicago IL', 'Los Angeles CA]:\\n\", model.wv.most_similar(['Los Angeles CA', 'Chicago IL'], topn=4, indexer=indexer))\n"
   ]
  }
 ],
 "metadata": {
  "kernelspec": {
   "display_name": "Python 3",
   "language": "python",
   "name": "python3"
  },
  "language_info": {
   "codemirror_mode": {
    "name": "ipython",
    "version": 3
   },
   "file_extension": ".py",
   "mimetype": "text/x-python",
   "name": "python",
   "nbconvert_exporter": "python",
   "pygments_lexer": "ipython3",
   "version": "3.5.4"
  }
 },
 "nbformat": 4,
 "nbformat_minor": 2
}
